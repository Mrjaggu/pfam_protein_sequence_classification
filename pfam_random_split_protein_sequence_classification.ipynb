{
 "cells": [
  {
   "cell_type": "code",
   "execution_count": 0,
   "metadata": {
    "colab": {},
    "colab_type": "code",
    "id": "GPQrZ9yCx0_t"
   },
   "outputs": [],
   "source": [
    "import matplotlib.pyplot as plt\n",
    "import numpy as np\n",
    "import os"
   ]
  },
  {
   "cell_type": "markdown",
   "metadata": {
    "colab_type": "text",
    "id": "4lFxfIHnx0_y"
   },
   "source": [
    "## Loading the data"
   ]
  },
  {
   "cell_type": "code",
   "execution_count": 0,
   "metadata": {
    "colab": {
     "base_uri": "https://localhost:8080/",
     "height": 34
    },
    "colab_type": "code",
    "id": "d3mMpF5xx0_z",
    "outputId": "004db9f9-cf08-49a2-d062-d8e683b9546c"
   },
   "outputs": [
    {
     "name": "stdout",
     "output_type": "stream",
     "text": [
      "Avaliable dataset partitions in this are ['dev', 'train', 'test', 'F5.large.jpg']\n"
     ]
    }
   ],
   "source": [
    "data_dirpath = '/content/drive/My Drive/case_study_2/random_split/'\n",
    "\n",
    "print(\"Avaliable dataset partitions in this are {}\".format(os.listdir(data_dirpath)))"
   ]
  },
  {
   "cell_type": "code",
   "execution_count": 0,
   "metadata": {
    "colab": {},
    "colab_type": "code",
    "id": "IL4rUK5vx0_6"
   },
   "outputs": [],
   "source": [
    "import pandas as pd\n",
    "\n",
    "def reading_partition(partition='dev',data_dir=data_dirpath):\n",
    "    all_partition=[]\n",
    "    for file in os.listdir(os.path.join(data_dir,partition)):\n",
    "        with open(os.path.join(data_dir,partition,file)) as f:\n",
    "            all_partition.append(pd.read_csv(f , index_col=None))\n",
    "    return pd.concat(all_partition)"
   ]
  },
  {
   "cell_type": "code",
   "execution_count": 0,
   "metadata": {
    "colab": {},
    "colab_type": "code",
    "id": "qhvxA3_Kx0_-"
   },
   "outputs": [],
   "source": [
    "dftest = reading_partition('test')"
   ]
  },
  {
   "cell_type": "code",
   "execution_count": 0,
   "metadata": {
    "colab": {},
    "colab_type": "code",
    "id": "ehXpP-ywx1AB"
   },
   "outputs": [],
   "source": [
    "# dftrain = reading_partition('train')"
   ]
  },
  {
   "cell_type": "code",
   "execution_count": 0,
   "metadata": {
    "colab": {},
    "colab_type": "code",
    "id": "Qe_0K4rJx1AF"
   },
   "outputs": [],
   "source": [
    "dfdev = reading_partition('dev')"
   ]
  },
  {
   "cell_type": "code",
   "execution_count": 0,
   "metadata": {
    "colab": {
     "base_uri": "https://localhost:8080/",
     "height": 34
    },
    "colab_type": "code",
    "id": "znGbu9GOx1AI",
    "outputId": "7989541f-0f22-4a25-a28a-29c94f130b97"
   },
   "outputs": [
    {
     "name": "stdout",
     "output_type": "stream",
     "text": [
      "Size of dataset train is 1086741 , test is 126171, dev is 126171\n"
     ]
    }
   ],
   "source": [
    "print(\"Size of dataset train is {} , test is {}, dev is {}\".format(len(dftrain),len(dftest),len(dfdev)))"
   ]
  },
  {
   "cell_type": "code",
   "execution_count": 0,
   "metadata": {
    "colab": {},
    "colab_type": "code",
    "id": "_2QZcJvBHFU1",
    "outputId": "24697f14-1a24-497b-85a5-7f464389bcd8"
   },
   "outputs": [
    {
     "data": {
      "text/plain": [
       "13071"
      ]
     },
     "execution_count": 10,
     "metadata": {
      "tags": []
     },
     "output_type": "execute_result"
    }
   ],
   "source": [
    "classes = np.intersect1d( np.intersect1d(dftrain.family_accession,dfdev.family_accession) ,dftest.family_accession)\n",
    "number_of_unique_classes = len (classes)\n",
    "number_of_unique_classes"
   ]
  },
  {
   "cell_type": "code",
   "execution_count": 0,
   "metadata": {
    "colab": {},
    "colab_type": "code",
    "id": "LAtpB9adHFU4"
   },
   "outputs": [],
   "source": [
    "def class_joint(data):\n",
    "  classs = []\n",
    "  for clas in data['family_accession']:\n",
    "      x = clas.split('.')\n",
    "      y = x[0] + str(x[1])\n",
    "      classs.append(y)\n",
    "  data['class']=classs\n",
    "  return data"
   ]
  },
  {
   "cell_type": "code",
   "execution_count": 0,
   "metadata": {
    "colab": {},
    "colab_type": "code",
    "id": "BvhKAbAYHFU7"
   },
   "outputs": [],
   "source": [
    "dftrain = class_joint(dftrain)"
   ]
  },
  {
   "cell_type": "code",
   "execution_count": 0,
   "metadata": {
    "colab": {},
    "colab_type": "code",
    "id": "0tlqcnRFHFU9"
   },
   "outputs": [],
   "source": [
    "dftest =class_joint(dftest)"
   ]
  },
  {
   "cell_type": "code",
   "execution_count": 0,
   "metadata": {
    "colab": {},
    "colab_type": "code",
    "id": "FlX-RkpuHFVA"
   },
   "outputs": [],
   "source": [
    "dfdev = class_joint(dfdev)"
   ]
  },
  {
   "cell_type": "code",
   "execution_count": 0,
   "metadata": {
    "colab": {},
    "colab_type": "code",
    "id": "k1mfGFM3HFVI"
   },
   "outputs": [],
   "source": [
    "import pandas as pd"
   ]
  },
  {
   "cell_type": "code",
   "execution_count": 0,
   "metadata": {
    "colab": {},
    "colab_type": "code",
    "id": "iafO8TwNHFVa",
    "outputId": "d0d74efc-c085-4b91-dc98-7827c5fe4305"
   },
   "outputs": [
    {
     "data": {
      "text/plain": [
       "((100000, 7), (10000, 6), (10000, 6))"
      ]
     },
     "execution_count": 6,
     "metadata": {
      "tags": []
     },
     "output_type": "execute_result"
    }
   ],
   "source": [
    "train.shape,test.shape,dev.shape"
   ]
  },
  {
   "cell_type": "code",
   "execution_count": 0,
   "metadata": {
    "colab": {},
    "colab_type": "code",
    "id": "x-IZXVrOHFVc",
    "outputId": "fdc8668f-ba26-421c-e622-611e75a065f1"
   },
   "outputs": [
    {
     "data": {
      "text/plain": [
       "13071"
      ]
     },
     "execution_count": 21,
     "metadata": {
      "tags": []
     },
     "output_type": "execute_result"
    }
   ],
   "source": [
    "import numpy as np\n",
    "classes = np.intersect1d( np.intersect1d(dftrain.family_accession,dfdev.family_accession) ,dftest.family_accession)\n",
    "number_of_unique_classes = len (classes)\n",
    "number_of_unique_classes"
   ]
  },
  {
   "cell_type": "code",
   "execution_count": 0,
   "metadata": {
    "colab": {},
    "colab_type": "code",
    "id": "EE0oaxT5HFVf"
   },
   "outputs": [],
   "source": [
    "train = dftrain.loc[dftrain.family_accession.isin(classes)].reset_index()\n",
    "dev = dfdev.loc[dfdev.family_accession.isin(classes)].reset_index()\n",
    "test = dftest.loc[dftest.family_accession.isin(classes)].reset_index()"
   ]
  },
  {
   "cell_type": "code",
   "execution_count": 0,
   "metadata": {
    "colab": {},
    "colab_type": "code",
    "id": "K975qeXtHFVh",
    "outputId": "3eee0e2b-c4ff-47db-b1cc-f828ae35fe9c"
   },
   "outputs": [
    {
     "name": "stdout",
     "output_type": "stream",
     "text": [
      "train:  (1064950, 7) dev: (126171, 7) test: (126171, 7)\n"
     ]
    }
   ],
   "source": [
    "print(\"train: \",train.shape,\"dev:\",dev.shape,\"test:\",test.shape)"
   ]
  },
  {
   "cell_type": "code",
   "execution_count": 0,
   "metadata": {
    "colab": {},
    "colab_type": "code",
    "id": "PoJSlnR3HFVk",
    "outputId": "7857e05d-98ca-4a7c-9f67-16ffbf1bd8a5"
   },
   "outputs": [
    {
     "data": {
      "text/html": [
       "<div>\n",
       "<style scoped>\n",
       "    .dataframe tbody tr th:only-of-type {\n",
       "        vertical-align: middle;\n",
       "    }\n",
       "\n",
       "    .dataframe tbody tr th {\n",
       "        vertical-align: top;\n",
       "    }\n",
       "\n",
       "    .dataframe thead th {\n",
       "        text-align: right;\n",
       "    }\n",
       "</style>\n",
       "<table border=\"1\" class=\"dataframe\">\n",
       "  <thead>\n",
       "    <tr style=\"text-align: right;\">\n",
       "      <th></th>\n",
       "      <th>index</th>\n",
       "      <th>family_id</th>\n",
       "      <th>sequence_name</th>\n",
       "      <th>family_accession</th>\n",
       "      <th>aligned_sequence</th>\n",
       "      <th>sequence</th>\n",
       "      <th>alignment_length</th>\n",
       "      <th>class</th>\n",
       "    </tr>\n",
       "  </thead>\n",
       "  <tbody>\n",
       "    <tr>\n",
       "      <th>0</th>\n",
       "      <td>2</td>\n",
       "      <td>zf-IS66</td>\n",
       "      <td>Q92LC9_RHIME/32-75</td>\n",
       "      <td>PF13005.7</td>\n",
       "      <td>.TCCPDCGG.E..LRLVGED.AS....EILDMI.AAQMKVIEVARL...</td>\n",
       "      <td>TCCPDCGGELRLVGEDASEILDMIAAQMKVIEVARLKKSCRCCE</td>\n",
       "      <td>55</td>\n",
       "      <td>PF130057</td>\n",
       "    </tr>\n",
       "    <tr>\n",
       "      <th>1</th>\n",
       "      <td>3</td>\n",
       "      <td>Asp_decarbox</td>\n",
       "      <td>X2GQZ4_9BACI/1-115</td>\n",
       "      <td>PF02261.16</td>\n",
       "      <td>MLRMMMNSKIHRATVTEADLNYVGSITIDEDILDAVGMLPNEKVHI...</td>\n",
       "      <td>MLRMMMNSKIHRATVTEADLNYVGSITIDEDILDAVGMLPNEKVHI...</td>\n",
       "      <td>121</td>\n",
       "      <td>PF0226116</td>\n",
       "    </tr>\n",
       "    <tr>\n",
       "      <th>2</th>\n",
       "      <td>5</td>\n",
       "      <td>DUF4131</td>\n",
       "      <td>Q6N5R7_RHOPA/70-226</td>\n",
       "      <td>PF13567.6</td>\n",
       "      <td>DHEPVAWVAAATAAGFVIAA...VLLR......................</td>\n",
       "      <td>DHEPVAWVAAATAAGFVIAAVLLRRSRAFAPVLLLTALLAGFATAS...</td>\n",
       "      <td>281</td>\n",
       "      <td>PF135676</td>\n",
       "    </tr>\n",
       "    <tr>\n",
       "      <th>3</th>\n",
       "      <td>6</td>\n",
       "      <td>GGACT</td>\n",
       "      <td>A0A086WQ80_9VIBR/5-113</td>\n",
       "      <td>PF06094.12</td>\n",
       "      <td>LFVY...GTLRQG..ESNH.N.F.L.AD.....S...Q...........</td>\n",
       "      <td>LFVYGTLRQGESNHNFLADSQCLGHFETPPHYALYDLGTYPAVIEG...</td>\n",
       "      <td>298</td>\n",
       "      <td>PF0609412</td>\n",
       "    </tr>\n",
       "    <tr>\n",
       "      <th>4</th>\n",
       "      <td>8</td>\n",
       "      <td>His_kinase</td>\n",
       "      <td>Q47E94_DECAR/372-450</td>\n",
       "      <td>PF06580.13</td>\n",
       "      <td>SE.I..KLLHAQVNPHFLFNALNTL......S....AV...I.......</td>\n",
       "      <td>SEIKLLHAQVNPHFLFNALNTLSAVIRRDPEKACHLVLNLSTFFRK...</td>\n",
       "      <td>163</td>\n",
       "      <td>PF0658013</td>\n",
       "    </tr>\n",
       "  </tbody>\n",
       "</table>\n",
       "</div>"
      ],
      "text/plain": [
       "   index     family_id           sequence_name family_accession  \\\n",
       "0      2       zf-IS66      Q92LC9_RHIME/32-75        PF13005.7   \n",
       "1      3  Asp_decarbox      X2GQZ4_9BACI/1-115       PF02261.16   \n",
       "2      5       DUF4131     Q6N5R7_RHOPA/70-226        PF13567.6   \n",
       "3      6         GGACT  A0A086WQ80_9VIBR/5-113       PF06094.12   \n",
       "4      8    His_kinase    Q47E94_DECAR/372-450       PF06580.13   \n",
       "\n",
       "                                    aligned_sequence  \\\n",
       "0  .TCCPDCGG.E..LRLVGED.AS....EILDMI.AAQMKVIEVARL...   \n",
       "1  MLRMMMNSKIHRATVTEADLNYVGSITIDEDILDAVGMLPNEKVHI...   \n",
       "2  DHEPVAWVAAATAAGFVIAA...VLLR......................   \n",
       "3  LFVY...GTLRQG..ESNH.N.F.L.AD.....S...Q...........   \n",
       "4  SE.I..KLLHAQVNPHFLFNALNTL......S....AV...I.......   \n",
       "\n",
       "                                            sequence  alignment_length  \\\n",
       "0       TCCPDCGGELRLVGEDASEILDMIAAQMKVIEVARLKKSCRCCE                55   \n",
       "1  MLRMMMNSKIHRATVTEADLNYVGSITIDEDILDAVGMLPNEKVHI...               121   \n",
       "2  DHEPVAWVAAATAAGFVIAAVLLRRSRAFAPVLLLTALLAGFATAS...               281   \n",
       "3  LFVYGTLRQGESNHNFLADSQCLGHFETPPHYALYDLGTYPAVIEG...               298   \n",
       "4  SEIKLLHAQVNPHFLFNALNTLSAVIRRDPEKACHLVLNLSTFFRK...               163   \n",
       "\n",
       "       class  \n",
       "0   PF130057  \n",
       "1  PF0226116  \n",
       "2   PF135676  \n",
       "3  PF0609412  \n",
       "4  PF0658013  "
      ]
     },
     "execution_count": 11,
     "metadata": {
      "tags": []
     },
     "output_type": "execute_result"
    }
   ],
   "source": [
    "train.head()"
   ]
  },
  {
   "cell_type": "code",
   "execution_count": 0,
   "metadata": {
    "colab": {},
    "colab_type": "code",
    "id": "yBEdPlR5x1AR"
   },
   "outputs": [],
   "source": [
    "family_class_cnt = train.groupby('family_accession').size().sort_values(ascending = False)"
   ]
  },
  {
   "cell_type": "code",
   "execution_count": 0,
   "metadata": {
    "colab": {
     "base_uri": "https://localhost:8080/",
     "height": 386
    },
    "colab_type": "code",
    "id": "m_Ajs6bvsKPO",
    "outputId": "e6b1ac23-703d-420b-cdd5-f63b61331ffb"
   },
   "outputs": [
    {
     "data": {
      "text/plain": [
       "family_accession\n",
       "PF13649.6     331\n",
       "PF00560.33    188\n",
       "PF13508.7     163\n",
       "PF00677.17    147\n",
       "PF06580.13    138\n",
       "PF00400.32    134\n",
       "PF02397.16    134\n",
       "PF01035.20    125\n",
       "PF02885.17    120\n",
       "PF03484.15    111\n",
       "PF01368.20    111\n",
       "PF02881.19    110\n",
       "PF01725.16    107\n",
       "PF02417.15    104\n",
       "PF01255.19    103\n",
       "PF03453.17    103\n",
       "PF05192.18    101\n",
       "PF02545.14    100\n",
       "PF00126.27     99\n",
       "PF01523.16     98\n",
       "dtype: int64"
      ]
     },
     "execution_count": 13,
     "metadata": {
      "tags": []
     },
     "output_type": "execute_result"
    }
   ],
   "source": [
    "family_class_cnt.head(20)"
   ]
  },
  {
   "cell_type": "code",
   "execution_count": 0,
   "metadata": {
    "colab": {
     "base_uri": "https://localhost:8080/",
     "height": 218
    },
    "colab_type": "code",
    "id": "_E4SncbCx1AT",
    "outputId": "7a7dfc69-431b-430c-b911-fea8c53bcbd5"
   },
   "outputs": [
    {
     "data": {
      "text/plain": [
       "family_id\n",
       "Methyltransf_25    331\n",
       "LRR_1              188\n",
       "Acetyltransf_7     163\n",
       "Lum_binding        147\n",
       "His_kinase         138\n",
       "WD40               134\n",
       "Bac_transf         134\n",
       "DNA_binding_1      125\n",
       "Glycos_trans_3N    120\n",
       "B5                 111\n",
       "dtype: int64"
      ]
     },
     "execution_count": 14,
     "metadata": {
      "tags": []
     },
     "output_type": "execute_result"
    }
   ],
   "source": [
    "# Let c the family with most sequences\n",
    "train.groupby('family_id').size().sort_values(ascending=False).head(10)"
   ]
  },
  {
   "cell_type": "code",
   "execution_count": 0,
   "metadata": {
    "colab": {
     "base_uri": "https://localhost:8080/",
     "height": 852
    },
    "colab_type": "code",
    "id": "s94AIFCPx1AX",
    "outputId": "0adc35fa-17d0-4e53-d89d-2ae46c4931ab"
   },
   "outputs": [
    {
     "data": {
      "image/png": "[encoded data removed]",
      "text/plain": [
       "<Figure size 432x288 with 1 Axes>"
      ]
     },
     "metadata": {
      "needs_background": "light",
      "tags": []
     },
     "output_type": "display_data"
    },
    {
     "data": {
      "image/png": "[encoded data removed]",
      "text/plain": [
       "<Figure size 432x288 with 1 Axes>"
      ]
     },
     "metadata": {
      "needs_background": "light",
      "tags": []
     },
     "output_type": "display_data"
    },
    {
     "data": {
      "image/png": "[encoded data removed]",
      "text/plain": [
       "<Figure size 432x288 with 1 Axes>"
      ]
     },
     "metadata": {
      "needs_background": "light",
      "tags": []
     },
     "output_type": "display_data"
    }
   ],
   "source": [
    "import matplotlib.pyplot as plt\n",
    "partitions = {'test': test, 'dev': dev, 'train': train}\n",
    "\n",
    "for name, partition in partitions.items():\n",
    "    partition.groupby('family_id').size().hist(bins=50)\n",
    "    plt.title('Distribution of family sizes for %s' % name)\n",
    "    plt.ylabel('# Families')\n",
    "    plt.xlabel('Family size')\n",
    "    plt.show()"
   ]
  },
  {
   "cell_type": "markdown",
   "metadata": {
    "colab_type": "text",
    "id": "J78qKPSjx1Af"
   },
   "source": [
    "## Families with longest alignment length"
   ]
  },
  {
   "cell_type": "code",
   "execution_count": 0,
   "metadata": {
    "colab": {
     "base_uri": "https://localhost:8080/",
     "height": 312
    },
    "colab_type": "code",
    "id": "5043Ii8Tx1Ag",
    "outputId": "9afafc7d-ded7-4c0a-ee92-fef135c012bc"
   },
   "outputs": [
    {
     "data": {
      "text/plain": [
       "Text(0, 0.5, 'No of sequence')"
      ]
     },
     "execution_count": 17,
     "metadata": {
      "tags": []
     },
     "output_type": "execute_result"
    },
    {
     "data": {
      "image/png": "[encoded data removed]",
      "text/plain": [
       "<Figure size 432x288 with 1 Axes>"
      ]
     },
     "metadata": {
      "needs_background": "light",
      "tags": []
     },
     "output_type": "display_data"
    }
   ],
   "source": [
    "train['alignment_length'] = train.aligned_sequence.str.len()\n",
    "train.alignment_length.hist(bins=30)\n",
    "plt.title(\"Distribution of alignment lengths in train\")\n",
    "plt.xlabel(\"Alignment length\")\n",
    "plt.ylabel(\"No of sequence\")\n"
   ]
  },
  {
   "cell_type": "code",
   "execution_count": 0,
   "metadata": {
    "colab": {
     "base_uri": "https://localhost:8080/",
     "height": 195
    },
    "colab_type": "code",
    "id": "lhYUOCFQx1Al",
    "outputId": "483b3122-dd2a-4da0-d67e-7131a340284f"
   },
   "outputs": [
    {
     "data": {
      "text/html": [
       "<div>\n",
       "<style scoped>\n",
       "    .dataframe tbody tr th:only-of-type {\n",
       "        vertical-align: middle;\n",
       "    }\n",
       "\n",
       "    .dataframe tbody tr th {\n",
       "        vertical-align: top;\n",
       "    }\n",
       "\n",
       "    .dataframe thead th {\n",
       "        text-align: right;\n",
       "    }\n",
       "</style>\n",
       "<table border=\"1\" class=\"dataframe\">\n",
       "  <thead>\n",
       "    <tr style=\"text-align: right;\">\n",
       "      <th></th>\n",
       "      <th>family_id</th>\n",
       "      <th>alignment_length</th>\n",
       "    </tr>\n",
       "  </thead>\n",
       "  <tbody>\n",
       "    <tr>\n",
       "      <th>2555</th>\n",
       "      <td>CobN-Mg_chel</td>\n",
       "      <td>2394</td>\n",
       "    </tr>\n",
       "    <tr>\n",
       "      <th>15</th>\n",
       "      <td>PHO4</td>\n",
       "      <td>2197</td>\n",
       "    </tr>\n",
       "    <tr>\n",
       "      <th>154</th>\n",
       "      <td>Vps35</td>\n",
       "      <td>2026</td>\n",
       "    </tr>\n",
       "    <tr>\n",
       "      <th>772</th>\n",
       "      <td>Sec1</td>\n",
       "      <td>1998</td>\n",
       "    </tr>\n",
       "    <tr>\n",
       "      <th>966</th>\n",
       "      <td>Cullin</td>\n",
       "      <td>1975</td>\n",
       "    </tr>\n",
       "  </tbody>\n",
       "</table>\n",
       "</div>"
      ],
      "text/plain": [
       "         family_id  alignment_length\n",
       "2555  CobN-Mg_chel              2394\n",
       "15            PHO4              2197\n",
       "154          Vps35              2026\n",
       "772           Sec1              1998\n",
       "966         Cullin              1975"
      ]
     },
     "execution_count": 18,
     "metadata": {
      "tags": []
     },
     "output_type": "execute_result"
    }
   ],
   "source": [
    "family_lengths = (train[['family_id', 'alignment_length']]\n",
    "                  .drop_duplicates()\n",
    "                  .sort_values(by='alignment_length', ascending=False))\n",
    "\n",
    "family_lengths.head(5)"
   ]
  },
  {
   "cell_type": "code",
   "execution_count": 0,
   "metadata": {
    "colab": {
     "base_uri": "https://localhost:8080/",
     "height": 195
    },
    "colab_type": "code",
    "id": "CdUlvJf3x1Ap",
    "outputId": "a1ce8517-e1dd-436b-e121-30ed7f325fae"
   },
   "outputs": [
    {
     "data": {
      "text/html": [
       "<div>\n",
       "<style scoped>\n",
       "    .dataframe tbody tr th:only-of-type {\n",
       "        vertical-align: middle;\n",
       "    }\n",
       "\n",
       "    .dataframe tbody tr th {\n",
       "        vertical-align: top;\n",
       "    }\n",
       "\n",
       "    .dataframe thead th {\n",
       "        text-align: right;\n",
       "    }\n",
       "</style>\n",
       "<table border=\"1\" class=\"dataframe\">\n",
       "  <thead>\n",
       "    <tr style=\"text-align: right;\">\n",
       "      <th></th>\n",
       "      <th>family_id</th>\n",
       "      <th>alignment_length</th>\n",
       "    </tr>\n",
       "  </thead>\n",
       "  <tbody>\n",
       "    <tr>\n",
       "      <th>9318</th>\n",
       "      <td>LPAM_1</td>\n",
       "      <td>21</td>\n",
       "    </tr>\n",
       "    <tr>\n",
       "      <th>1622</th>\n",
       "      <td>zf_CCCH_4</td>\n",
       "      <td>21</td>\n",
       "    </tr>\n",
       "    <tr>\n",
       "      <th>1407</th>\n",
       "      <td>SEC-C</td>\n",
       "      <td>20</td>\n",
       "    </tr>\n",
       "    <tr>\n",
       "      <th>2824</th>\n",
       "      <td>UIM</td>\n",
       "      <td>17</td>\n",
       "    </tr>\n",
       "    <tr>\n",
       "      <th>294</th>\n",
       "      <td>NPR</td>\n",
       "      <td>17</td>\n",
       "    </tr>\n",
       "  </tbody>\n",
       "</table>\n",
       "</div>"
      ],
      "text/plain": [
       "      family_id  alignment_length\n",
       "9318     LPAM_1                21\n",
       "1622  zf_CCCH_4                21\n",
       "1407      SEC-C                20\n",
       "2824        UIM                17\n",
       "294         NPR                17"
      ]
     },
     "execution_count": 19,
     "metadata": {
      "tags": []
     },
     "output_type": "execute_result"
    }
   ],
   "source": [
    "family_lengths.tail(5)"
   ]
  },
  {
   "cell_type": "code",
   "execution_count": 0,
   "metadata": {
    "colab": {
     "base_uri": "https://localhost:8080/",
     "height": 299
    },
    "colab_type": "code",
    "id": "Ehb9J-ZVIc7B",
    "outputId": "5db61bdd-c63e-4e0e-bc89-e78c042146af"
   },
   "outputs": [
    {
     "data": {
      "text/html": [
       "<div>\n",
       "<style scoped>\n",
       "    .dataframe tbody tr th:only-of-type {\n",
       "        vertical-align: middle;\n",
       "    }\n",
       "\n",
       "    .dataframe tbody tr th {\n",
       "        vertical-align: top;\n",
       "    }\n",
       "\n",
       "    .dataframe thead th {\n",
       "        text-align: right;\n",
       "    }\n",
       "</style>\n",
       "<table border=\"1\" class=\"dataframe\">\n",
       "  <thead>\n",
       "    <tr style=\"text-align: right;\">\n",
       "      <th></th>\n",
       "      <th>index</th>\n",
       "      <th>family_id</th>\n",
       "      <th>sequence_name</th>\n",
       "      <th>family_accession</th>\n",
       "      <th>aligned_sequence</th>\n",
       "      <th>sequence</th>\n",
       "      <th>class</th>\n",
       "    </tr>\n",
       "  </thead>\n",
       "  <tbody>\n",
       "    <tr>\n",
       "      <th>0</th>\n",
       "      <td>0</td>\n",
       "      <td>Ribosomal_L28</td>\n",
       "      <td>G2PE79_STRVO/4-62</td>\n",
       "      <td>PF00830.19</td>\n",
       "      <td>.HCQLTG.RQPGFGHH.....I....S.HS...............H...</td>\n",
       "      <td>HCQLTGRQPGFGHHISHSHRRTKRRFDPNIQHKRYWLPSEGRHIRL...</td>\n",
       "      <td>PF0083019</td>\n",
       "    </tr>\n",
       "    <tr>\n",
       "      <th>1</th>\n",
       "      <td>2</td>\n",
       "      <td>UPF0052</td>\n",
       "      <td>B8HTP5_CYAP4/137-423</td>\n",
       "      <td>PF01933.18</td>\n",
       "      <td>IVAIGGGTGLSTLL..............RGLKEYS..............</td>\n",
       "      <td>IVAIGGGTGLSTLLRGLKEYSANITAIVTVADDGGSSGRLRREIGV...</td>\n",
       "      <td>PF0193318</td>\n",
       "    </tr>\n",
       "    <tr>\n",
       "      <th>2</th>\n",
       "      <td>3</td>\n",
       "      <td>SBD_N</td>\n",
       "      <td>Q12HD1_POLSJ/12-248</td>\n",
       "      <td>PF07005.11</td>\n",
       "      <td>LAYYGDDFTGSTDVMEAFSA.....AGV........PTVLF.LRP....</td>\n",
       "      <td>LAYYGDDFTGSTDVMEAFSAAGVPTVLFLRPPTADWLKRFPEVRCV...</td>\n",
       "      <td>PF0700511</td>\n",
       "    </tr>\n",
       "    <tr>\n",
       "      <th>3</th>\n",
       "      <td>4</td>\n",
       "      <td>LepA_C</td>\n",
       "      <td>D7G0L8_ECTSI/605-711</td>\n",
       "      <td>PF06421.12</td>\n",
       "      <td>INGEDAPPLSTVCHRDQAHQRGKVLTEKLKQLIPRQMFRVPIQACI...</td>\n",
       "      <td>INGEDAPPLSTVCHRDQAHQRGKVLTEKLKQLIPRQMFRVPIQACI...</td>\n",
       "      <td>PF0642112</td>\n",
       "    </tr>\n",
       "    <tr>\n",
       "      <th>4</th>\n",
       "      <td>5</td>\n",
       "      <td>ChW</td>\n",
       "      <td>R7GIS4_9CLOT/734-768</td>\n",
       "      <td>PF07538.11</td>\n",
       "      <td>HVQDVG........W.........Q.......N.....W..L.NGG...</td>\n",
       "      <td>HVQDVGWQNWLNGGKTAGTTGKSKRLEAIQIKLNG</td>\n",
       "      <td>PF0753811</td>\n",
       "    </tr>\n",
       "  </tbody>\n",
       "</table>\n",
       "</div>"
      ],
      "text/plain": [
       "   index      family_id         sequence_name family_accession  \\\n",
       "0      0  Ribosomal_L28     G2PE79_STRVO/4-62       PF00830.19   \n",
       "1      2        UPF0052  B8HTP5_CYAP4/137-423       PF01933.18   \n",
       "2      3          SBD_N   Q12HD1_POLSJ/12-248       PF07005.11   \n",
       "3      4         LepA_C  D7G0L8_ECTSI/605-711       PF06421.12   \n",
       "4      5            ChW  R7GIS4_9CLOT/734-768       PF07538.11   \n",
       "\n",
       "                                    aligned_sequence  \\\n",
       "0  .HCQLTG.RQPGFGHH.....I....S.HS...............H...   \n",
       "1  IVAIGGGTGLSTLL..............RGLKEYS..............   \n",
       "2  LAYYGDDFTGSTDVMEAFSA.....AGV........PTVLF.LRP....   \n",
       "3  INGEDAPPLSTVCHRDQAHQRGKVLTEKLKQLIPRQMFRVPIQACI...   \n",
       "4  HVQDVG........W.........Q.......N.....W..L.NGG...   \n",
       "\n",
       "                                            sequence      class  \n",
       "0  HCQLTGRQPGFGHHISHSHRRTKRRFDPNIQHKRYWLPSEGRHIRL...  PF0083019  \n",
       "1  IVAIGGGTGLSTLLRGLKEYSANITAIVTVADDGGSSGRLRREIGV...  PF0193318  \n",
       "2  LAYYGDDFTGSTDVMEAFSAAGVPTVLFLRPPTADWLKRFPEVRCV...  PF0700511  \n",
       "3  INGEDAPPLSTVCHRDQAHQRGKVLTEKLKQLIPRQMFRVPIQACI...  PF0642112  \n",
       "4                HVQDVGWQNWLNGGKTAGTTGKSKRLEAIQIKLNG  PF0753811  "
      ]
     },
     "execution_count": 22,
     "metadata": {
      "tags": []
     },
     "output_type": "execute_result"
    }
   ],
   "source": [
    "test.head()"
   ]
  },
  {
   "cell_type": "code",
   "execution_count": 0,
   "metadata": {
    "colab": {
     "base_uri": "https://localhost:8080/",
     "height": 249
    },
    "colab_type": "code",
    "id": "UTBKY_DpsjQ5",
    "outputId": "8845be94-e2c2-4a39-a293-743dc65acd82"
   },
   "outputs": [
    {
     "data": {
      "text/html": [
       "<div>\n",
       "<style scoped>\n",
       "    .dataframe tbody tr th:only-of-type {\n",
       "        vertical-align: middle;\n",
       "    }\n",
       "\n",
       "    .dataframe tbody tr th {\n",
       "        vertical-align: top;\n",
       "    }\n",
       "\n",
       "    .dataframe thead th {\n",
       "        text-align: right;\n",
       "    }\n",
       "</style>\n",
       "<table border=\"1\" class=\"dataframe\">\n",
       "  <thead>\n",
       "    <tr style=\"text-align: right;\">\n",
       "      <th></th>\n",
       "      <th>index</th>\n",
       "      <th>family_id</th>\n",
       "      <th>sequence_name</th>\n",
       "      <th>family_accession</th>\n",
       "      <th>aligned_sequence</th>\n",
       "      <th>sequence</th>\n",
       "      <th>alignment_length</th>\n",
       "      <th>class</th>\n",
       "    </tr>\n",
       "  </thead>\n",
       "  <tbody>\n",
       "    <tr>\n",
       "      <th>0</th>\n",
       "      <td>2</td>\n",
       "      <td>zf-IS66</td>\n",
       "      <td>Q92LC9_RHIME/32-75</td>\n",
       "      <td>PF13005.7</td>\n",
       "      <td>.TCCPDCGG.E..LRLVGED.AS....EILDMI.AAQMKVIEVARL...</td>\n",
       "      <td>TCCPDCGGELRLVGEDASEILDMIAAQMKVIEVARLKKSCRCCE</td>\n",
       "      <td>55</td>\n",
       "      <td>PF130057</td>\n",
       "    </tr>\n",
       "    <tr>\n",
       "      <th>1</th>\n",
       "      <td>3</td>\n",
       "      <td>Asp_decarbox</td>\n",
       "      <td>X2GQZ4_9BACI/1-115</td>\n",
       "      <td>PF02261.16</td>\n",
       "      <td>MLRMMMNSKIHRATVTEADLNYVGSITIDEDILDAVGMLPNEKVHI...</td>\n",
       "      <td>MLRMMMNSKIHRATVTEADLNYVGSITIDEDILDAVGMLPNEKVHI...</td>\n",
       "      <td>121</td>\n",
       "      <td>PF0226116</td>\n",
       "    </tr>\n",
       "    <tr>\n",
       "      <th>2</th>\n",
       "      <td>5</td>\n",
       "      <td>DUF4131</td>\n",
       "      <td>Q6N5R7_RHOPA/70-226</td>\n",
       "      <td>PF13567.6</td>\n",
       "      <td>DHEPVAWVAAATAAGFVIAA...VLLR......................</td>\n",
       "      <td>DHEPVAWVAAATAAGFVIAAVLLRRSRAFAPVLLLTALLAGFATAS...</td>\n",
       "      <td>281</td>\n",
       "      <td>PF135676</td>\n",
       "    </tr>\n",
       "    <tr>\n",
       "      <th>3</th>\n",
       "      <td>6</td>\n",
       "      <td>GGACT</td>\n",
       "      <td>A0A086WQ80_9VIBR/5-113</td>\n",
       "      <td>PF06094.12</td>\n",
       "      <td>LFVY...GTLRQG..ESNH.N.F.L.AD.....S...Q...........</td>\n",
       "      <td>LFVYGTLRQGESNHNFLADSQCLGHFETPPHYALYDLGTYPAVIEG...</td>\n",
       "      <td>298</td>\n",
       "      <td>PF0609412</td>\n",
       "    </tr>\n",
       "    <tr>\n",
       "      <th>4</th>\n",
       "      <td>8</td>\n",
       "      <td>His_kinase</td>\n",
       "      <td>Q47E94_DECAR/372-450</td>\n",
       "      <td>PF06580.13</td>\n",
       "      <td>SE.I..KLLHAQVNPHFLFNALNTL......S....AV...I.......</td>\n",
       "      <td>SEIKLLHAQVNPHFLFNALNTLSAVIRRDPEKACHLVLNLSTFFRK...</td>\n",
       "      <td>163</td>\n",
       "      <td>PF0658013</td>\n",
       "    </tr>\n",
       "  </tbody>\n",
       "</table>\n",
       "</div>"
      ],
      "text/plain": [
       "   index     family_id           sequence_name family_accession  \\\n",
       "0      2       zf-IS66      Q92LC9_RHIME/32-75        PF13005.7   \n",
       "1      3  Asp_decarbox      X2GQZ4_9BACI/1-115       PF02261.16   \n",
       "2      5       DUF4131     Q6N5R7_RHOPA/70-226        PF13567.6   \n",
       "3      6         GGACT  A0A086WQ80_9VIBR/5-113       PF06094.12   \n",
       "4      8    His_kinase    Q47E94_DECAR/372-450       PF06580.13   \n",
       "\n",
       "                                    aligned_sequence  \\\n",
       "0  .TCCPDCGG.E..LRLVGED.AS....EILDMI.AAQMKVIEVARL...   \n",
       "1  MLRMMMNSKIHRATVTEADLNYVGSITIDEDILDAVGMLPNEKVHI...   \n",
       "2  DHEPVAWVAAATAAGFVIAA...VLLR......................   \n",
       "3  LFVY...GTLRQG..ESNH.N.F.L.AD.....S...Q...........   \n",
       "4  SE.I..KLLHAQVNPHFLFNALNTL......S....AV...I.......   \n",
       "\n",
       "                                            sequence  alignment_length  \\\n",
       "0       TCCPDCGGELRLVGEDASEILDMIAAQMKVIEVARLKKSCRCCE                55   \n",
       "1  MLRMMMNSKIHRATVTEADLNYVGSITIDEDILDAVGMLPNEKVHI...               121   \n",
       "2  DHEPVAWVAAATAAGFVIAAVLLRRSRAFAPVLLLTALLAGFATAS...               281   \n",
       "3  LFVYGTLRQGESNHNFLADSQCLGHFETPPHYALYDLGTYPAVIEG...               298   \n",
       "4  SEIKLLHAQVNPHFLFNALNTLSAVIRRDPEKACHLVLNLSTFFRK...               163   \n",
       "\n",
       "       class  \n",
       "0   PF130057  \n",
       "1  PF0226116  \n",
       "2   PF135676  \n",
       "3  PF0609412  \n",
       "4  PF0658013  "
      ]
     },
     "execution_count": 23,
     "metadata": {
      "tags": []
     },
     "output_type": "execute_result"
    }
   ],
   "source": [
    "train.head()"
   ]
  },
  {
   "cell_type": "code",
   "execution_count": 0,
   "metadata": {
    "colab": {},
    "colab_type": "code",
    "id": "oWmhRMskx1A3"
   },
   "outputs": [],
   "source": [
    "import pickle"
   ]
  },
  {
   "cell_type": "code",
   "execution_count": 0,
   "metadata": {
    "colab": {},
    "colab_type": "code",
    "id": "FRW8NLVMJJsM"
   },
   "outputs": [],
   "source": [
    "test.to_csv('./test.csv',index=False)"
   ]
  },
  {
   "cell_type": "code",
   "execution_count": 0,
   "metadata": {
    "colab": {},
    "colab_type": "code",
    "id": "SPrUsEtwx1A8"
   },
   "outputs": [],
   "source": [
    "train.to_csv('./train.csv',index = False)"
   ]
  },
  {
   "cell_type": "code",
   "execution_count": 0,
   "metadata": {
    "colab": {},
    "colab_type": "code",
    "id": "x1baGm2zHFWL"
   },
   "outputs": [],
   "source": [
    "dfdev.to_csv('/content/drive/My Drive/case_study_2/dev.csv',index = False)"
   ]
  },
  {
   "cell_type": "code",
   "execution_count": 0,
   "metadata": {
    "colab": {},
    "colab_type": "code",
    "id": "7Tsuxsrex1A_"
   },
   "outputs": [],
   "source": [
    "import pandas as pd\n",
    "train= pd.read_csv('/content/drive/My Drive/case_study_2/train2.csv',nrows=300000)"
   ]
  },
  {
   "cell_type": "code",
   "execution_count": 0,
   "metadata": {
    "colab": {},
    "colab_type": "code",
    "id": "Rd1zbQV_JZXd"
   },
   "outputs": [],
   "source": [
    "test= pd.read_csv('/content/drive/My Drive/case_study_2/test.csv',nrows=10000)"
   ]
  },
  {
   "cell_type": "code",
   "execution_count": 0,
   "metadata": {
    "colab": {},
    "colab_type": "code",
    "id": "SvVDEEHjHFWT"
   },
   "outputs": [],
   "source": [
    "dev = pd.read_csv('/content/drive/My Drive/case_study_2/dev.csv',nrows=10000)"
   ]
  },
  {
   "cell_type": "code",
   "execution_count": 5,
   "metadata": {
    "colab": {
     "base_uri": "https://localhost:8080/",
     "height": 67
    },
    "colab_type": "code",
    "id": "dHsBhcyhx1BF",
    "outputId": "0e811c2d-f88d-4123-ca07-8be461ad9b0d"
   },
   "outputs": [
    {
     "data": {
      "text/plain": [
       "Index(['family_id', 'sequence_name', 'family_accession', 'aligned_sequence',\n",
       "       'sequence', 'alignment_length', 'class'],\n",
       "      dtype='object')"
      ]
     },
     "execution_count": 5,
     "metadata": {
      "tags": []
     },
     "output_type": "execute_result"
    }
   ],
   "source": [
    "train.columns"
   ]
  },
  {
   "cell_type": "code",
   "execution_count": 6,
   "metadata": {
    "colab": {
     "base_uri": "https://localhost:8080/",
     "height": 67
    },
    "colab_type": "code",
    "id": "cglcfnVnHFWb",
    "outputId": "d3a56cfb-00a4-44b8-8d17-d9e26a88a857"
   },
   "outputs": [
    {
     "data": {
      "text/plain": [
       "Index(['family_id', 'sequence_name', 'family_accession', 'aligned_sequence',\n",
       "       'sequence', 'class'],\n",
       "      dtype='object')"
      ]
     },
     "execution_count": 6,
     "metadata": {
      "tags": []
     },
     "output_type": "execute_result"
    }
   ],
   "source": [
    "dev.columns"
   ]
  },
  {
   "cell_type": "code",
   "execution_count": 8,
   "metadata": {
    "colab": {
     "base_uri": "https://localhost:8080/",
     "height": 84
    },
    "colab_type": "code",
    "id": "NqlUbfA5HFWg",
    "outputId": "62e66e3d-39c4-44a0-eed0-7501398607af"
   },
   "outputs": [
    {
     "name": "stdout",
     "output_type": "stream",
     "text": [
      "Unique number of classes across train set:  16268\n",
      "Unique number of classes across dev set  :  4909\n",
      "Unique number of classes across test set :  4970\n",
      "Unique number of classes across all sets :  16283\n"
     ]
    }
   ],
   "source": [
    "import numpy as np\n",
    "\n",
    "print(\"Unique number of classes across train set: \", len(np.unique(train.family_accession)))\n",
    "print(\"Unique number of classes across dev set  : \", len(np.unique(dev.family_accession)))\n",
    "print(\"Unique number of classes across test set : \", len(np.unique(test.family_accession)))\n",
    "print(\"Unique number of classes across all sets : \", len (np.union1d( np.union1d(train.family_accession,dev.family_accession) ,test.family_accession) ))\n",
    "number_of_unique_classes = len (np.union1d( np.union1d(train.family_accession,dev.family_accession) ,test.family_accession) )"
   ]
  },
  {
   "cell_type": "code",
   "execution_count": 9,
   "metadata": {
    "colab": {
     "base_uri": "https://localhost:8080/",
     "height": 34
    },
    "colab_type": "code",
    "id": "dLTY_lA7HFWj",
    "outputId": "d299aa32-3ef5-4597-f460-3093b05be559"
   },
   "outputs": [
    {
     "data": {
      "text/plain": [
       "2910"
      ]
     },
     "execution_count": 9,
     "metadata": {
      "tags": []
     },
     "output_type": "execute_result"
    }
   ],
   "source": [
    "classes = np.intersect1d( np.intersect1d(train.family_accession,dev.family_accession) ,test.family_accession)\n",
    "number_of_unique_classes = len (classes)\n",
    "number_of_unique_classes"
   ]
  },
  {
   "cell_type": "code",
   "execution_count": 0,
   "metadata": {
    "colab": {},
    "colab_type": "code",
    "id": "tED1IwlkHFWr"
   },
   "outputs": [],
   "source": [
    "train = train.loc[train.family_accession.isin(classes)].reset_index()\n",
    "dev = dev.loc[dev.family_accession.isin(classes)].reset_index()\n",
    "test = test.loc[test.family_accession.isin(classes)].reset_index()"
   ]
  },
  {
   "cell_type": "code",
   "execution_count": 11,
   "metadata": {
    "colab": {
     "base_uri": "https://localhost:8080/",
     "height": 34
    },
    "colab_type": "code",
    "id": "IjA9r1OzHFWv",
    "outputId": "79a4375d-9c36-424e-ec51-2ce36e25cf60"
   },
   "outputs": [
    {
     "name": "stdout",
     "output_type": "stream",
     "text": [
      "train:  (174530, 8) dev: (7417, 7) test: (7316, 7)\n"
     ]
    }
   ],
   "source": [
    "print(\"train: \",train.shape,\"dev:\",dev.shape,\"test:\",test.shape)"
   ]
  },
  {
   "cell_type": "code",
   "execution_count": 12,
   "metadata": {
    "colab": {
     "base_uri": "https://localhost:8080/",
     "height": 168
    },
    "colab_type": "code",
    "id": "kNzcwK-xx1BZ",
    "outputId": "c18e8699-6e3a-4a63-ca3f-f5411c820f1c"
   },
   "outputs": [
    {
     "data": {
      "text/plain": [
       "count    174530.000000\n",
       "mean        316.895582\n",
       "std         293.089109\n",
       "min          17.000000\n",
       "25%         125.000000\n",
       "50%         219.000000\n",
       "75%         418.000000\n",
       "max        2394.000000\n",
       "Name: alignment_length, dtype: float64"
      ]
     },
     "execution_count": 12,
     "metadata": {
      "tags": []
     },
     "output_type": "execute_result"
    }
   ],
   "source": [
    "train['alignment_length'].describe()"
   ]
  },
  {
   "cell_type": "code",
   "execution_count": 0,
   "metadata": {
    "colab": {},
    "colab_type": "code",
    "id": "RUZDT_kux1Bp"
   },
   "outputs": [],
   "source": [
    "train['sequence']=train['sequence'].apply(lambda x: x.lower())\n",
    "test['sequence']=test['sequence'].apply(lambda x: x.lower())\n",
    "dev['sequence']=dev['sequence'].apply(lambda x: x.lower())"
   ]
  },
  {
   "cell_type": "code",
   "execution_count": 0,
   "metadata": {
    "colab": {},
    "colab_type": "code",
    "id": "N260TrrRx1Br"
   },
   "outputs": [],
   "source": [
    "from tqdm import tqdm\n",
    "def unique_words_dict(train_temp):\n",
    "\n",
    "    all_unique_sequence_words=set()\n",
    "    for seq_word in tqdm(train_temp['sequence']):\n",
    "        for word in seq_word:\n",
    "            if word not in all_unique_sequence_words:\n",
    "                all_unique_sequence_words.add(word)\n",
    "    return sorted(list(all_unique_sequence_words))            "
   ]
  },
  {
   "cell_type": "code",
   "execution_count": 19,
   "metadata": {
    "colab": {
     "base_uri": "https://localhost:8080/",
     "height": 34
    },
    "colab_type": "code",
    "id": "k0HvaW7qHFW7",
    "outputId": "2c4861e1-4d7c-4065-8233-31c8ec000d2f"
   },
   "outputs": [
    {
     "name": "stderr",
     "output_type": "stream",
     "text": [
      "100%|██████████| 174530/174530 [00:01<00:00, 139377.86it/s]\n"
     ]
    }
   ],
   "source": [
    "train_unique_sequence_words = unique_words_dict(train)"
   ]
  },
  {
   "cell_type": "code",
   "execution_count": 20,
   "metadata": {
    "colab": {
     "base_uri": "https://localhost:8080/",
     "height": 34
    },
    "colab_type": "code",
    "id": "vCqtBHxvHFW_",
    "outputId": "e7c3aa04-8b45-48eb-a545-06075f828e50"
   },
   "outputs": [
    {
     "name": "stderr",
     "output_type": "stream",
     "text": [
      "100%|██████████| 7316/7316 [00:00<00:00, 126568.01it/s]\n"
     ]
    }
   ],
   "source": [
    "test_unique_sequence_words = unique_words_dict(test)"
   ]
  },
  {
   "cell_type": "code",
   "execution_count": 21,
   "metadata": {
    "colab": {
     "base_uri": "https://localhost:8080/",
     "height": 34
    },
    "colab_type": "code",
    "id": "TDSL_U0tHFXB",
    "outputId": "31f81773-ac4f-436f-82f0-5b5b4815e6c3"
   },
   "outputs": [
    {
     "name": "stderr",
     "output_type": "stream",
     "text": [
      "100%|██████████| 7417/7417 [00:00<00:00, 130496.89it/s]\n"
     ]
    }
   ],
   "source": [
    "dev_unique_sequence_words = unique_words_dict(dev)"
   ]
  },
  {
   "cell_type": "code",
   "execution_count": 0,
   "metadata": {
    "colab": {},
    "colab_type": "code",
    "id": "GDKBsOStx1Bz"
   },
   "outputs": [],
   "source": [
    "def index_char_dict(input_sequence_words):\n",
    "\n",
    "    # dictionary to index each english character - key is index and value is english character\n",
    "    index_to_char_dict = {}\n",
    "    # dictionary to get english character given its index - key is english character and value is index\n",
    "    char_to_index_dict = {}    \n",
    "    for key, value in enumerate(input_sequence_words):\n",
    "        index_to_char_dict[key] = value\n",
    "        char_to_index_dict[value] = key\n",
    "    return index_to_char_dict,char_to_index_dict    "
   ]
  },
  {
   "cell_type": "code",
   "execution_count": 23,
   "metadata": {
    "colab": {
     "base_uri": "https://localhost:8080/",
     "height": 34
    },
    "colab_type": "code",
    "id": "SjjSq5Xmx1B1",
    "outputId": "1854d6ff-a40e-417d-a896-fd85f0618875"
   },
   "outputs": [
    {
     "data": {
      "text/plain": [
       "24"
      ]
     },
     "execution_count": 23,
     "metadata": {
      "tags": []
     },
     "output_type": "execute_result"
    }
   ],
   "source": [
    "train_index_char_dict,train_char_index_dict = index_char_dict(train_unique_sequence_words)\n",
    "len(train_index_char_dict)"
   ]
  },
  {
   "cell_type": "code",
   "execution_count": 0,
   "metadata": {
    "colab": {},
    "colab_type": "code",
    "id": "vKIOmiKbx1B4"
   },
   "outputs": [],
   "source": [
    "def featurization(train_temp):\n",
    "  final_string=[]\n",
    "  for seq in tqdm(train_temp['sequence']):\n",
    "      seq1=[]\n",
    "      for char in seq:\n",
    "          x=train_char_index_dict[char]\n",
    "          seq1.append(str(x))\n",
    "  #     str1= \" ,\".join(seq1)\n",
    "      final_string.append(seq1)\n",
    "  train_temp['clean_seq'] = final_string\n",
    "  \n",
    "  return train_temp"
   ]
  },
  {
   "cell_type": "code",
   "execution_count": 25,
   "metadata": {
    "colab": {
     "base_uri": "https://localhost:8080/",
     "height": 34
    },
    "colab_type": "code",
    "id": "pfrHuqrtKVFY",
    "outputId": "5523ef43-f0bc-49ee-ddba-cb066a9e0b94"
   },
   "outputs": [
    {
     "name": "stderr",
     "output_type": "stream",
     "text": [
      "100%|██████████| 174530/174530 [00:12<00:00, 14378.20it/s]\n"
     ]
    }
   ],
   "source": [
    "train_temp = featurization(train)"
   ]
  },
  {
   "cell_type": "code",
   "execution_count": 26,
   "metadata": {
    "colab": {
     "base_uri": "https://localhost:8080/",
     "height": 34
    },
    "colab_type": "code",
    "id": "quIfrIZuHFXP",
    "outputId": "4da5a5a7-9e3e-48d4-d2f6-37cf3cc4e829"
   },
   "outputs": [
    {
     "name": "stderr",
     "output_type": "stream",
     "text": [
      "100%|██████████| 7316/7316 [00:00<00:00, 14370.90it/s]\n"
     ]
    }
   ],
   "source": [
    "test_temp = featurization(test)"
   ]
  },
  {
   "cell_type": "code",
   "execution_count": 27,
   "metadata": {
    "colab": {
     "base_uri": "https://localhost:8080/",
     "height": 34
    },
    "colab_type": "code",
    "id": "MFf1NPKdHFXR",
    "outputId": "ba0fbe75-1a07-4b1b-8329-f0a6d7d2a181"
   },
   "outputs": [
    {
     "name": "stderr",
     "output_type": "stream",
     "text": [
      "100%|██████████| 7417/7417 [00:00<00:00, 15551.43it/s]\n"
     ]
    }
   ],
   "source": [
    "dev_temp = featurization(dev)"
   ]
  },
  {
   "cell_type": "code",
   "execution_count": 0,
   "metadata": {
    "colab": {},
    "colab_type": "code",
    "id": "Mb0kAxSFR0WA"
   },
   "outputs": [],
   "source": [
    "del train_temp\n",
    "del test_temp\n",
    "del dev_temp"
   ]
  },
  {
   "cell_type": "code",
   "execution_count": 24,
   "metadata": {
    "colab": {
     "base_uri": "https://localhost:8080/",
     "height": 118
    },
    "colab_type": "code",
    "id": "hC4mxL02x1B6",
    "outputId": "8b3eb780-b04f-4bad-9f14-520e45ac8a10"
   },
   "outputs": [
    {
     "data": {
      "text/plain": [
       "0    [18, 2, 2, 14, 3, 2, 6, 6, 4, 10, 16, 10, 20, ...\n",
       "1    [11, 10, 16, 11, 11, 11, 12, 17, 9, 8, 7, 16, ...\n",
       "2    [3, 7, 4, 14, 20, 0, 21, 20, 0, 0, 0, 18, 0, 0...\n",
       "3    [10, 5, 20, 23, 6, 18, 10, 16, 15, 6, 4, 17, 1...\n",
       "4    [17, 4, 8, 9, 10, 10, 7, 0, 15, 20, 12, 14, 7,...\n",
       "Name: clean_seq, dtype: object"
      ]
     },
     "execution_count": 24,
     "metadata": {
      "tags": []
     },
     "output_type": "execute_result"
    }
   ],
   "source": [
    "train_temp['clean_seq'].head()"
   ]
  },
  {
   "cell_type": "code",
   "execution_count": 25,
   "metadata": {
    "colab": {
     "base_uri": "https://localhost:8080/",
     "height": 118
    },
    "colab_type": "code",
    "id": "HK5xXzDWHFXV",
    "outputId": "befa3975-8c54-480e-fa35-370d63cdf5b9"
   },
   "outputs": [
    {
     "data": {
      "text/plain": [
       "0    [7, 2, 15, 10, 18, 6, 16, 15, 14, 6, 5, 6, 7, ...\n",
       "1    [8, 20, 0, 8, 6, 6, 6, 18, 6, 10, 17, 18, 10, ...\n",
       "2    [10, 0, 23, 23, 6, 3, 3, 5, 18, 6, 17, 18, 3, ...\n",
       "3    [8, 12, 6, 4, 3, 0, 14, 14, 10, 17, 18, 20, 2,...\n",
       "4    [7, 20, 15, 3, 20, 6, 21, 15, 12, 21, 10, 12, ...\n",
       "Name: clean_seq, dtype: object"
      ]
     },
     "execution_count": 25,
     "metadata": {
      "tags": []
     },
     "output_type": "execute_result"
    }
   ],
   "source": [
    "test_temp['clean_seq'].head()"
   ]
  },
  {
   "cell_type": "markdown",
   "metadata": {
    "colab_type": "text",
    "id": "I7SEulazNVYM"
   },
   "source": [
    "## Converting into tenosor by on hot encoding\n"
   ]
  },
  {
   "cell_type": "markdown",
   "metadata": {
    "colab_type": "text",
    "id": "EiEKLyjfx1CF"
   },
   "source": [
    "## Padding each sequence"
   ]
  },
  {
   "cell_type": "code",
   "execution_count": 26,
   "metadata": {
    "colab": {
     "base_uri": "https://localhost:8080/",
     "height": 34
    },
    "colab_type": "code",
    "id": "z_Wc4TGnx1CF",
    "outputId": "5096689b-1d1e-40c8-db9a-84f063a93da2"
   },
   "outputs": [
    {
     "name": "stderr",
     "output_type": "stream",
     "text": [
      "Using TensorFlow backend.\n"
     ]
    }
   ],
   "source": [
    "from keras.preprocessing import sequence\n",
    "def padding(word_index_sequence):\n",
    "    max_sequence_length = 100\n",
    "    final_sequence = sequence.pad_sequences(word_index_sequence , maxlen=max_sequence_length,padding='post')\n",
    "    return final_sequence"
   ]
  },
  {
   "cell_type": "code",
   "execution_count": 0,
   "metadata": {
    "colab": {},
    "colab_type": "code",
    "id": "KXDng4QYHFXd"
   },
   "outputs": [],
   "source": [
    "finaltrain_seq = padding(list(train_temp['clean_seq']))"
   ]
  },
  {
   "cell_type": "code",
   "execution_count": 0,
   "metadata": {
    "colab": {},
    "colab_type": "code",
    "id": "bFkvGWD2HFXg"
   },
   "outputs": [],
   "source": [
    "finaltest_seq = padding(list(test_temp['clean_seq']))"
   ]
  },
  {
   "cell_type": "code",
   "execution_count": 0,
   "metadata": {
    "colab": {},
    "colab_type": "code",
    "id": "v97IiKPdHFXh"
   },
   "outputs": [],
   "source": [
    "finaldev_seq = padding(list(dev_temp['clean_seq']))"
   ]
  },
  {
   "cell_type": "code",
   "execution_count": 0,
   "metadata": {
    "colab": {},
    "colab_type": "code",
    "id": "IeJeQr1QRr7x"
   },
   "outputs": [],
   "source": [
    "del finaltrain_seq\n",
    "del finaltest_seq\n",
    "del finaldev_seq"
   ]
  },
  {
   "cell_type": "code",
   "execution_count": 30,
   "metadata": {
    "colab": {
     "base_uri": "https://localhost:8080/",
     "height": 34
    },
    "colab_type": "code",
    "id": "xczo7kymHFXj",
    "outputId": "ed039432-6803-4f4f-c17c-18262ec1efeb"
   },
   "outputs": [
    {
     "data": {
      "text/plain": [
       "numpy.ndarray"
      ]
     },
     "execution_count": 30,
     "metadata": {
      "tags": []
     },
     "output_type": "execute_result"
    }
   ],
   "source": [
    "type(finaltrain_seq)"
   ]
  },
  {
   "cell_type": "code",
   "execution_count": 0,
   "metadata": {
    "colab": {},
    "colab_type": "code",
    "id": "BEDpNVulTe71"
   },
   "outputs": [],
   "source": [
    "import numpy as np\n",
    "def one_hot(final_sequence):\n",
    "    nb_classes = len(train_index_char_dict)\n",
    "    targets = np.array(final_sequence)\n",
    "    one_hot_train = np.eye(nb_classes)[targets]\n",
    "    \n",
    "    return one_hot_train"
   ]
  },
  {
   "cell_type": "code",
   "execution_count": 0,
   "metadata": {
    "colab": {},
    "colab_type": "code",
    "id": "EPIucRazHFXp"
   },
   "outputs": [],
   "source": [
    "train_one_hot = one_hot(finaltrain_seq)"
   ]
  },
  {
   "cell_type": "code",
   "execution_count": 0,
   "metadata": {
    "colab": {},
    "colab_type": "code",
    "id": "sIomI4TZHFXq"
   },
   "outputs": [],
   "source": [
    "test_one_hot = one_hot(finaltest_seq)"
   ]
  },
  {
   "cell_type": "code",
   "execution_count": 0,
   "metadata": {
    "colab": {},
    "colab_type": "code",
    "id": "q99mJU-UHFXs"
   },
   "outputs": [],
   "source": [
    "dev_one_hot = one_hot(finaldev_seq)"
   ]
  },
  {
   "cell_type": "code",
   "execution_count": 0,
   "metadata": {
    "colab": {},
    "colab_type": "code",
    "id": "2hDsjgdYRKNf"
   },
   "outputs": [],
   "source": [
    "finaltrain=train_one_hot\n",
    "finaltest=test_one_hot\n",
    "finaldev=dev_one_hot"
   ]
  },
  {
   "cell_type": "code",
   "execution_count": 0,
   "metadata": {
    "colab": {},
    "colab_type": "code",
    "id": "xWocKPguSC7R"
   },
   "outputs": [],
   "source": [
    "np.save('/content/drive/My Drive/case_study_2/finaltrain.npy',finaltrain)\n",
    "np.save('/content/drive/My Drive/case_study_2/finaltest.npy',finaltest)\n",
    "np.save('/content/drive/My Drive/case_study_2/finaldev.npy',finaldev)"
   ]
  },
  {
   "cell_type": "code",
   "execution_count": 0,
   "metadata": {
    "colab": {},
    "colab_type": "code",
    "id": "e-1rpgvwS6I5"
   },
   "outputs": [],
   "source": [
    "import numpy as np"
   ]
  },
  {
   "cell_type": "code",
   "execution_count": 0,
   "metadata": {
    "colab": {},
    "colab_type": "code",
    "id": "Dygyt2yiS89t"
   },
   "outputs": [],
   "source": [
    "finaltrain=np.load('/content/drive/My Drive/case_study_2/finaltrain.npy')"
   ]
  },
  {
   "cell_type": "code",
   "execution_count": 0,
   "metadata": {
    "colab": {},
    "colab_type": "code",
    "id": "5Tae7j4zTGZk"
   },
   "outputs": [],
   "source": [
    "finaltest=np.load('/content/drive/My Drive/case_study_2/finaltest.npy')"
   ]
  },
  {
   "cell_type": "code",
   "execution_count": 0,
   "metadata": {
    "colab": {},
    "colab_type": "code",
    "id": "B_slDagoTGmY"
   },
   "outputs": [],
   "source": [
    "finaldev=np.load('/content/drive/My Drive/case_study_2/finaldev.npy')"
   ]
  },
  {
   "cell_type": "code",
   "execution_count": 0,
   "metadata": {
    "colab": {},
    "colab_type": "code",
    "id": "IU-NIUItRXuR"
   },
   "outputs": [],
   "source": [
    "del train_one_hot"
   ]
  },
  {
   "cell_type": "code",
   "execution_count": 0,
   "metadata": {
    "colab": {},
    "colab_type": "code",
    "id": "vuNKG6cVRaMA"
   },
   "outputs": [],
   "source": [
    "del test_one_hot"
   ]
  },
  {
   "cell_type": "code",
   "execution_count": 0,
   "metadata": {
    "colab": {},
    "colab_type": "code",
    "id": "EJiEBPXqRaXs"
   },
   "outputs": [],
   "source": [
    "del dev_one_hot"
   ]
  },
  {
   "cell_type": "code",
   "execution_count": 0,
   "metadata": {
    "colab": {},
    "colab_type": "code",
    "id": "Rq46d8AXRiU0"
   },
   "outputs": [],
   "source": [
    "import gc"
   ]
  },
  {
   "cell_type": "code",
   "execution_count": 47,
   "metadata": {
    "colab": {
     "base_uri": "https://localhost:8080/",
     "height": 34
    },
    "colab_type": "code",
    "id": "XLZjbjxlRkZ2",
    "outputId": "45f7eb6f-1ccf-4bc3-db66-501c5b302454"
   },
   "outputs": [
    {
     "data": {
      "text/plain": [
       "<function gc.collect>"
      ]
     },
     "execution_count": 47,
     "metadata": {
      "tags": []
     },
     "output_type": "execute_result"
    }
   ],
   "source": [
    "gc.collect"
   ]
  },
  {
   "cell_type": "code",
   "execution_count": 41,
   "metadata": {
    "colab": {
     "base_uri": "https://localhost:8080/",
     "height": 34
    },
    "colab_type": "code",
    "id": "8KWFEscSVbbV",
    "outputId": "9a42f155-54b5-4619-ee8b-33eae692e8fc"
   },
   "outputs": [
    {
     "name": "stdout",
     "output_type": "stream",
     "text": [
      "(174530, 100, 24)\n"
     ]
    }
   ],
   "source": [
    "print(finaltrain.shape)"
   ]
  },
  {
   "cell_type": "code",
   "execution_count": 0,
   "metadata": {
    "colab": {},
    "colab_type": "code",
    "id": "05McRx1Bx1CN"
   },
   "outputs": [],
   "source": [
    "from sklearn.preprocessing import LabelEncoder\n",
    "labelencoder = LabelEncoder()\n",
    "ytrain = labelencoder.fit_transform(train['class'])"
   ]
  },
  {
   "cell_type": "code",
   "execution_count": 17,
   "metadata": {
    "colab": {
     "base_uri": "https://localhost:8080/",
     "height": 34
    },
    "colab_type": "code",
    "id": "xMJT2e6pHFX2",
    "outputId": "81d44559-b2e1-4ea6-a62c-1fc12ddf76cb"
   },
   "outputs": [
    {
     "data": {
      "text/plain": [
       "2910"
      ]
     },
     "execution_count": 17,
     "metadata": {
      "tags": []
     },
     "output_type": "execute_result"
    }
   ],
   "source": [
    "len(labelencoder.classes_)"
   ]
  },
  {
   "cell_type": "code",
   "execution_count": 0,
   "metadata": {
    "colab": {},
    "colab_type": "code",
    "id": "2Bs-srsnHFX4"
   },
   "outputs": [],
   "source": [
    "ytest = labelencoder.transform(test_temp['class'])"
   ]
  },
  {
   "cell_type": "code",
   "execution_count": 0,
   "metadata": {
    "colab": {},
    "colab_type": "code",
    "id": "sRIg5rsVHFX5"
   },
   "outputs": [],
   "source": [
    "ydev = labelencoder.transform(dev_temp['class'])"
   ]
  },
  {
   "cell_type": "code",
   "execution_count": 0,
   "metadata": {
    "colab": {
     "base_uri": "https://localhost:8080/",
     "height": 34
    },
    "colab_type": "code",
    "id": "ISOlg9ZuQRnF",
    "outputId": "64cf906f-0400-4a38-f34a-227960d18e98"
   },
   "outputs": [
    {
     "name": "stdout",
     "output_type": "stream",
     "text": [
      "(187378, 100, 24)\n"
     ]
    }
   ],
   "source": [
    "print(train_one_hot.shape)"
   ]
  },
  {
   "cell_type": "code",
   "execution_count": 30,
   "metadata": {
    "colab": {
     "base_uri": "https://localhost:8080/",
     "height": 34
    },
    "colab_type": "code",
    "id": "k51otm_ix1Cc",
    "outputId": "c17b5e91-4844-4918-e08c-a23e470f195a"
   },
   "outputs": [
    {
     "name": "stderr",
     "output_type": "stream",
     "text": [
      "Using TensorFlow backend.\n"
     ]
    }
   ],
   "source": [
    "import keras\n",
    "def class_categorical(ytrain):\n",
    "    ylist=[]\n",
    "    for y in tqdm(ytrain):\n",
    "        Y = keras.utils.to_categorical(y,len(labelencoder.classes_))\n",
    "        ylist.append(Y)\n",
    "    finaly = np.array(ylist)    \n",
    "    return finaly"
   ]
  },
  {
   "cell_type": "code",
   "execution_count": 31,
   "metadata": {
    "colab": {
     "base_uri": "https://localhost:8080/",
     "height": 34
    },
    "colab_type": "code",
    "id": "7QYDOBtwHFYG",
    "outputId": "e966f8f7-393b-4486-80fc-415d06ff26e8"
   },
   "outputs": [
    {
     "name": "stderr",
     "output_type": "stream",
     "text": [
      "100%|██████████| 174530/174530 [00:03<00:00, 44128.69it/s]\n"
     ]
    }
   ],
   "source": [
    "ytrain = class_categorical(ytrain)"
   ]
  },
  {
   "cell_type": "code",
   "execution_count": 32,
   "metadata": {
    "colab": {
     "base_uri": "https://localhost:8080/",
     "height": 34
    },
    "colab_type": "code",
    "id": "CT4lRJU_HFYI",
    "outputId": "6a31d2ac-e859-4fef-ff3c-577a715c087c"
   },
   "outputs": [
    {
     "name": "stderr",
     "output_type": "stream",
     "text": [
      "100%|██████████| 7316/7316 [00:00<00:00, 60144.47it/s]\n"
     ]
    }
   ],
   "source": [
    "ytest = class_categorical(ytest)"
   ]
  },
  {
   "cell_type": "code",
   "execution_count": 33,
   "metadata": {
    "colab": {
     "base_uri": "https://localhost:8080/",
     "height": 34
    },
    "colab_type": "code",
    "id": "sgJ5Qb-gHFYK",
    "outputId": "fe249228-43d5-47ac-8d7d-483a3c86c935"
   },
   "outputs": [
    {
     "name": "stderr",
     "output_type": "stream",
     "text": [
      "100%|██████████| 7417/7417 [00:00<00:00, 59262.87it/s]\n"
     ]
    }
   ],
   "source": [
    "ydev = class_categorical(ydev)"
   ]
  },
  {
   "cell_type": "code",
   "execution_count": 0,
   "metadata": {
    "colab": {},
    "colab_type": "code",
    "id": "Yi-1Pw9yT5qo"
   },
   "outputs": [],
   "source": [
    "np.save('/content/drive/My Drive/case_study_2/ytrain.npy',ytrain)"
   ]
  },
  {
   "cell_type": "code",
   "execution_count": 0,
   "metadata": {
    "colab": {},
    "colab_type": "code",
    "id": "Qx1CXxVcUGvZ"
   },
   "outputs": [],
   "source": [
    "np.save('/content/drive/My Drive/case_study_2/ytest.npy',ytest)"
   ]
  },
  {
   "cell_type": "code",
   "execution_count": 0,
   "metadata": {
    "colab": {},
    "colab_type": "code",
    "id": "P-669jR9UMIn"
   },
   "outputs": [],
   "source": [
    "np.save('/content/drive/My Drive/case_study_2/ydev.npy',ydev)"
   ]
  },
  {
   "cell_type": "code",
   "execution_count": 0,
   "metadata": {
    "colab": {},
    "colab_type": "code",
    "id": "gBSgGD9AUQjo"
   },
   "outputs": [],
   "source": [
    "ytrain = np.load('/content/drive/My Drive/case_study_2/ytrain.npy')"
   ]
  },
  {
   "cell_type": "code",
   "execution_count": 0,
   "metadata": {
    "colab": {},
    "colab_type": "code",
    "id": "DnmBg54rUQvC"
   },
   "outputs": [],
   "source": [
    "ytest = np.load(\"/content/drive/My Drive/case_study_2/ytest.npy\")"
   ]
  },
  {
   "cell_type": "code",
   "execution_count": 0,
   "metadata": {
    "colab": {},
    "colab_type": "code",
    "id": "tx1ro3DOURG-"
   },
   "outputs": [],
   "source": [
    "ydev = np.load('/content/drive/My Drive/case_study_2/ydev.npy')"
   ]
  },
  {
   "cell_type": "markdown",
   "metadata": {
    "colab_type": "text",
    "id": "Gn6h6vZKBCff"
   },
   "source": [
    "# Using  Resnet Network and modiifing the input size "
   ]
  },
  {
   "cell_type": "markdown",
   "metadata": {
    "colab_type": "text",
    "id": "5wK4X_aYVO_9"
   },
   "source": [
    "# Residual Network Customized"
   ]
  },
  {
   "cell_type": "markdown",
   "metadata": {
    "colab_type": "text",
    "id": "EVmwzowXeLt4"
   },
   "source": [
    "Some paper ref - https://arxiv.org/abs/1606.01781 \"  Deep convolutional network for text classification \""
   ]
  },
  {
   "cell_type": "code",
   "execution_count": 2,
   "metadata": {
    "colab": {
     "base_uri": "https://localhost:8080/",
     "height": 34
    },
    "colab_type": "code",
    "id": "3K8nl-4Ixw4T",
    "outputId": "15a65052-6c1b-4da4-e71f-dca7033184b2"
   },
   "outputs": [
    {
     "name": "stderr",
     "output_type": "stream",
     "text": [
      "Using TensorFlow backend.\n"
     ]
    }
   ],
   "source": [
    "from keras.layers import BatchNormalization,Dropout,Conv1D,Activation,Add,Flatten,Dense\n",
    "from keras.layers import MaxPooling1D\n",
    "from keras.layers.merge import concatenate\n",
    "from keras.initializers import glorot_uniform\n",
    "from keras.layers import ZeroPadding1D\n",
    "from keras.models import Input,Model\n",
    "\n",
    "import warnings \n",
    "warnings.filterwarnings('ignore')"
   ]
  },
  {
   "cell_type": "code",
   "execution_count": 3,
   "metadata": {
    "colab": {
     "base_uri": "https://localhost:8080/",
     "height": 138
    },
    "colab_type": "code",
    "id": "edj40TJWL21d",
    "outputId": "47fb528b-c848-4250-cff4-6f99560e0bfa"
   },
   "outputs": [
    {
     "name": "stdout",
     "output_type": "stream",
     "text": [
      "(?, 100, 24)\n"
     ]
    }
   ],
   "source": [
    "input_s = Input(shape=(100,24))\n",
    "print(input_s.shape)"
   ]
  },
  {
   "cell_type": "code",
   "execution_count": 0,
   "metadata": {
    "colab": {},
    "colab_type": "code",
    "id": "lEZ1fHOz6b3B"
   },
   "outputs": [],
   "source": [
    "# em = Embedding(output_dim=100, input_dim=len(index_to_char_dict), input_length=xtrain.shape[1])(input_s)\n",
    "X  = Conv1D(32, 1 , strides=1,padding='valid', name='conv1d_1', kernel_initializer=glorot_uniform(seed=0))(input_s)\n",
    "\n",
    "X  = MaxPooling1D(pool_size=2)(X)\n",
    "X1 = BatchNormalization(axis=2, name='batch_normalization_1')(X)\n",
    "\n",
    "X2 = Activation('relu',name='activation_1')(X1)\n",
    "\n",
    "X3 = BatchNormalization(axis=2, name='batch_normalization_2')(X2)\n",
    "\n",
    "X4 = Activation('relu',name='activation_2')(X3)\n",
    "\n",
    "X5 = Conv1D(128, 1 , strides=1,padding='valid', name='conv1d_3', kernel_initializer=glorot_uniform(seed=0))(X4)\n",
    "\n",
    "# X5 = MaxPooling1D(pool_size=2,name='pooling2')(X5)\n",
    "\n",
    "X6 = BatchNormalization(axis=2, name='batch_normalization_3')(X5)\n",
    "\n",
    "X7 = Activation('relu',name='activation_3')(X6)\n",
    "\n",
    "X8 = Conv1D(128 , 1 , strides=1 ,padding='valid', name='conv1d_4' , kernel_initializer=glorot_uniform(seed=0))(X7)\n",
    "X8 = Dropout(0.5,name='d3')(X8)\n",
    "X8 = MaxPooling1D(pool_size=2)(X8)\n",
    "\n",
    "X9 = Conv1D(128,  1 , strides=1 ,padding ='valid',name='conv1d_2',  kernel_initializer=glorot_uniform(seed=0))(X2)\n",
    "X9 = Dropout(0.5,name='d7')(X9)\n",
    "X9 = MaxPooling1D(pool_size=2)(X9)\n",
    "\n",
    "X10 = Add()([X8,X9])\n",
    "\n",
    "X11 = Activation('relu',name='activation_4')(X10)\n",
    "X11 = Dropout(0.2)(X11)\n",
    "\n",
    "X12 = BatchNormalization(axis=2,name='batch_normalization_4')(X11)\n",
    "\n",
    "X13 = Activation('relu',name='activation_5')(X12)\n",
    "\n",
    "X14 = Dropout(0.5,name='dropout_1')(X13)\n",
    "\n",
    "X15 = Flatten(name='flatten_1')(X14)\n",
    "\n",
    "X16 = Dense(2910 ,name='fc' + str(2910), kernel_initializer = glorot_uniform(seed=0))(X15)\n",
    "\n",
    "X17 = Activation('softmax',name='activation_6')(X16)"
   ]
  },
  {
   "cell_type": "code",
   "execution_count": 0,
   "metadata": {
    "colab": {},
    "colab_type": "code",
    "id": "bzSQF8Cd_8Ez"
   },
   "outputs": [],
   "source": [
    "# Create model\n",
    "model = Model(inputs = input_s, outputs = X17)"
   ]
  },
  {
   "cell_type": "code",
   "execution_count": 0,
   "metadata": {
    "colab": {},
    "colab_type": "code",
    "id": "bWTR5qfICRKQ"
   },
   "outputs": [],
   "source": [
    "model.compile(optimizer='adam', loss='categorical_crossentropy', metrics=['accuracy'])"
   ]
  },
  {
   "cell_type": "code",
   "execution_count": 73,
   "metadata": {
    "colab": {
     "base_uri": "https://localhost:8080/",
     "height": 991
    },
    "colab_type": "code",
    "id": "Kn4jUvsKCaAS",
    "outputId": "1278b665-9b58-4ae4-9e6f-fc0b24e62941"
   },
   "outputs": [
    {
     "name": "stdout",
     "output_type": "stream",
     "text": [
      "__________________________________________________________________________________________________\n",
      "Layer (type)                    Output Shape         Param #     Connected to                     \n",
      "==================================================================================================\n",
      "input_1 (InputLayer)            (None, 100, 24)      0                                            \n",
      "__________________________________________________________________________________________________\n",
      "conv1d_1 (Conv1D)               (None, 100, 32)      800         input_1[0][0]                    \n",
      "__________________________________________________________________________________________________\n",
      "max_pooling1d_13 (MaxPooling1D) (None, 50, 32)       0           conv1d_1[0][0]                   \n",
      "__________________________________________________________________________________________________\n",
      "batch_normalization_1 (BatchNor (None, 50, 32)       128         max_pooling1d_13[0][0]           \n",
      "__________________________________________________________________________________________________\n",
      "activation_1 (Activation)       (None, 50, 32)       0           batch_normalization_1[0][0]      \n",
      "__________________________________________________________________________________________________\n",
      "batch_normalization_2 (BatchNor (None, 50, 32)       128         activation_1[0][0]               \n",
      "__________________________________________________________________________________________________\n",
      "activation_2 (Activation)       (None, 50, 32)       0           batch_normalization_2[0][0]      \n",
      "__________________________________________________________________________________________________\n",
      "conv1d_3 (Conv1D)               (None, 50, 128)      4224        activation_2[0][0]               \n",
      "__________________________________________________________________________________________________\n",
      "batch_normalization_3 (BatchNor (None, 50, 128)      512         conv1d_3[0][0]                   \n",
      "__________________________________________________________________________________________________\n",
      "activation_3 (Activation)       (None, 50, 128)      0           batch_normalization_3[0][0]      \n",
      "__________________________________________________________________________________________________\n",
      "conv1d_4 (Conv1D)               (None, 50, 128)      16512       activation_3[0][0]               \n",
      "__________________________________________________________________________________________________\n",
      "conv1d_2 (Conv1D)               (None, 50, 128)      4224        activation_1[0][0]               \n",
      "__________________________________________________________________________________________________\n",
      "d3 (Dropout)                    (None, 50, 128)      0           conv1d_4[0][0]                   \n",
      "__________________________________________________________________________________________________\n",
      "d7 (Dropout)                    (None, 50, 128)      0           conv1d_2[0][0]                   \n",
      "__________________________________________________________________________________________________\n",
      "max_pooling1d_14 (MaxPooling1D) (None, 25, 128)      0           d3[0][0]                         \n",
      "__________________________________________________________________________________________________\n",
      "max_pooling1d_15 (MaxPooling1D) (None, 25, 128)      0           d7[0][0]                         \n",
      "__________________________________________________________________________________________________\n",
      "add_5 (Add)                     (None, 25, 128)      0           max_pooling1d_14[0][0]           \n",
      "                                                                 max_pooling1d_15[0][0]           \n",
      "__________________________________________________________________________________________________\n",
      "activation_4 (Activation)       (None, 25, 128)      0           add_5[0][0]                      \n",
      "__________________________________________________________________________________________________\n",
      "dropout_5 (Dropout)             (None, 25, 128)      0           activation_4[0][0]               \n",
      "__________________________________________________________________________________________________\n",
      "batch_normalization_4 (BatchNor (None, 25, 128)      512         dropout_5[0][0]                  \n",
      "__________________________________________________________________________________________________\n",
      "activation_5 (Activation)       (None, 25, 128)      0           batch_normalization_4[0][0]      \n",
      "__________________________________________________________________________________________________\n",
      "dropout_1 (Dropout)             (None, 25, 128)      0           activation_5[0][0]               \n",
      "__________________________________________________________________________________________________\n",
      "flatten_1 (Flatten)             (None, 3200)         0           dropout_1[0][0]                  \n",
      "__________________________________________________________________________________________________\n",
      "fc2910 (Dense)                  (None, 2910)         9314910     flatten_1[0][0]                  \n",
      "__________________________________________________________________________________________________\n",
      "activation_6 (Activation)       (None, 2910)         0           fc2910[0][0]                     \n",
      "==================================================================================================\n",
      "Total params: 9,341,950\n",
      "Trainable params: 9,341,310\n",
      "Non-trainable params: 640\n",
      "__________________________________________________________________________________________________\n"
     ]
    }
   ],
   "source": [
    "model.summary()"
   ]
  },
  {
   "cell_type": "code",
   "execution_count": 35,
   "metadata": {
    "colab": {
     "base_uri": "https://localhost:8080/",
     "height": 1000
    },
    "colab_type": "code",
    "id": "q1pp7inICjyW",
    "outputId": "41a509a1-8b98-4c3f-b72e-c30fc95b357e"
   },
   "outputs": [
    {
     "name": "stdout",
     "output_type": "stream",
     "text": [
      "Train on 174530 samples, validate on 7417 samples\n",
      "Epoch 1/100\n",
      "174530/174530 [==============================] - 36s 203us/step - loss: 3.3113 - acc: 0.5068 - val_loss: 1.5367 - val_acc: 0.8254\n",
      "Epoch 2/100\n",
      "174530/174530 [==============================] - 33s 188us/step - loss: 0.9353 - acc: 0.8209 - val_loss: 0.7844 - val_acc: 0.8913\n",
      "Epoch 3/100\n",
      "174530/174530 [==============================] - 33s 186us/step - loss: 0.5579 - acc: 0.8846 - val_loss: 0.5576 - val_acc: 0.9110\n",
      "Epoch 4/100\n",
      "174530/174530 [==============================] - 33s 188us/step - loss: 0.3867 - acc: 0.9146 - val_loss: 0.4702 - val_acc: 0.9194\n",
      "Epoch 5/100\n",
      "174530/174530 [==============================] - 33s 188us/step - loss: 0.2861 - acc: 0.9330 - val_loss: 0.4445 - val_acc: 0.9230\n",
      "Epoch 6/100\n",
      "174530/174530 [==============================] - 33s 188us/step - loss: 0.2238 - acc: 0.9450 - val_loss: 0.4234 - val_acc: 0.9295\n",
      "Epoch 7/100\n",
      "174530/174530 [==============================] - 33s 187us/step - loss: 0.1854 - acc: 0.9530 - val_loss: 0.4140 - val_acc: 0.9333\n",
      "Epoch 8/100\n",
      "174530/174530 [==============================] - 33s 188us/step - loss: 0.1579 - acc: 0.9586 - val_loss: 0.4033 - val_acc: 0.9330\n",
      "Epoch 9/100\n",
      "174530/174530 [==============================] - 33s 187us/step - loss: 0.1406 - acc: 0.9630 - val_loss: 0.4010 - val_acc: 0.9343\n",
      "Epoch 10/100\n",
      "174530/174530 [==============================] - 33s 188us/step - loss: 0.1243 - acc: 0.9667 - val_loss: 0.4054 - val_acc: 0.9343\n",
      "Epoch 11/100\n",
      "174530/174530 [==============================] - 33s 188us/step - loss: 0.1125 - acc: 0.9691 - val_loss: 0.4027 - val_acc: 0.9354\n",
      "Epoch 12/100\n",
      "174530/174530 [==============================] - 33s 188us/step - loss: 0.1039 - acc: 0.9711 - val_loss: 0.3967 - val_acc: 0.9357\n",
      "Epoch 13/100\n",
      "174530/174530 [==============================] - 33s 187us/step - loss: 0.0989 - acc: 0.9726 - val_loss: 0.3905 - val_acc: 0.9377\n",
      "Epoch 14/100\n",
      "174530/174530 [==============================] - 33s 188us/step - loss: 0.0926 - acc: 0.9747 - val_loss: 0.4008 - val_acc: 0.9357\n",
      "Epoch 15/100\n",
      "174530/174530 [==============================] - 33s 188us/step - loss: 0.0845 - acc: 0.9765 - val_loss: 0.3896 - val_acc: 0.9368\n",
      "Epoch 16/100\n",
      "174530/174530 [==============================] - 33s 187us/step - loss: 0.0820 - acc: 0.9771 - val_loss: 0.3898 - val_acc: 0.9384\n",
      "Epoch 17/100\n",
      "174530/174530 [==============================] - 33s 189us/step - loss: 0.0753 - acc: 0.9791 - val_loss: 0.3816 - val_acc: 0.9407\n",
      "Epoch 18/100\n",
      "174530/174530 [==============================] - 33s 186us/step - loss: 0.0715 - acc: 0.9802 - val_loss: 0.3780 - val_acc: 0.9396\n",
      "Epoch 19/100\n",
      "174530/174530 [==============================] - 33s 188us/step - loss: 0.0686 - acc: 0.9806 - val_loss: 0.3771 - val_acc: 0.9392\n",
      "Epoch 20/100\n",
      "174530/174530 [==============================] - 33s 188us/step - loss: 0.0648 - acc: 0.9815 - val_loss: 0.3800 - val_acc: 0.9400\n",
      "Epoch 21/100\n",
      "174530/174530 [==============================] - 33s 186us/step - loss: 0.0648 - acc: 0.9816 - val_loss: 0.3834 - val_acc: 0.9392\n",
      "Epoch 22/100\n",
      "174530/174530 [==============================] - 33s 188us/step - loss: 0.0606 - acc: 0.9828 - val_loss: 0.3775 - val_acc: 0.9408\n",
      "Epoch 23/100\n",
      "174530/174530 [==============================] - 33s 186us/step - loss: 0.0575 - acc: 0.9838 - val_loss: 0.3770 - val_acc: 0.9416\n",
      "Epoch 24/100\n",
      "174530/174530 [==============================] - 33s 187us/step - loss: 0.0565 - acc: 0.9839 - val_loss: 0.3820 - val_acc: 0.9412\n",
      "Epoch 25/100\n",
      "174530/174530 [==============================] - 33s 187us/step - loss: 0.0559 - acc: 0.9839 - val_loss: 0.3852 - val_acc: 0.9408\n",
      "Epoch 26/100\n",
      "174530/174530 [==============================] - 33s 188us/step - loss: 0.0536 - acc: 0.9847 - val_loss: 0.3826 - val_acc: 0.9400\n",
      "Epoch 27/100\n",
      "174530/174530 [==============================] - 33s 188us/step - loss: 0.0529 - acc: 0.9849 - val_loss: 0.3667 - val_acc: 0.9423\n",
      "Epoch 28/100\n",
      "174530/174530 [==============================] - 33s 187us/step - loss: 0.0488 - acc: 0.9862 - val_loss: 0.3768 - val_acc: 0.9415\n",
      "Epoch 29/100\n",
      "174530/174530 [==============================] - 33s 191us/step - loss: 0.0473 - acc: 0.9861 - val_loss: 0.3754 - val_acc: 0.9418\n",
      "Epoch 30/100\n",
      "174530/174530 [==============================] - 33s 187us/step - loss: 0.0468 - acc: 0.9866 - val_loss: 0.3787 - val_acc: 0.9412\n",
      "Epoch 31/100\n",
      "174530/174530 [==============================] - 35s 199us/step - loss: 0.0459 - acc: 0.9868 - val_loss: 0.3744 - val_acc: 0.9424\n",
      "Epoch 32/100\n",
      "174530/174530 [==============================] - 33s 191us/step - loss: 0.0440 - acc: 0.9873 - val_loss: 0.3696 - val_acc: 0.9449\n",
      "Epoch 33/100\n",
      "174530/174530 [==============================] - 33s 187us/step - loss: 0.0422 - acc: 0.9877 - val_loss: 0.3643 - val_acc: 0.9442\n",
      "Epoch 34/100\n",
      "174530/174530 [==============================] - 33s 189us/step - loss: 0.0408 - acc: 0.9882 - val_loss: 0.3754 - val_acc: 0.9440\n",
      "Epoch 35/100\n",
      "174530/174530 [==============================] - 33s 187us/step - loss: 0.0406 - acc: 0.9886 - val_loss: 0.3652 - val_acc: 0.9454\n",
      "Epoch 36/100\n",
      "174530/174530 [==============================] - 33s 188us/step - loss: 0.0405 - acc: 0.9883 - val_loss: 0.3696 - val_acc: 0.9446\n",
      "Epoch 37/100\n",
      "174530/174530 [==============================] - 33s 188us/step - loss: 0.0380 - acc: 0.9890 - val_loss: 0.3598 - val_acc: 0.9443\n",
      "Epoch 38/100\n",
      "174530/174530 [==============================] - 33s 189us/step - loss: 0.0368 - acc: 0.9895 - val_loss: 0.3679 - val_acc: 0.9440\n",
      "Epoch 39/100\n",
      "174530/174530 [==============================] - 33s 188us/step - loss: 0.0374 - acc: 0.9889 - val_loss: 0.3703 - val_acc: 0.9451\n",
      "Epoch 40/100\n",
      "174530/174530 [==============================] - 33s 188us/step - loss: 0.0356 - acc: 0.9899 - val_loss: 0.3694 - val_acc: 0.9431\n",
      "Epoch 41/100\n",
      "174530/174530 [==============================] - 33s 189us/step - loss: 0.0360 - acc: 0.9896 - val_loss: 0.3689 - val_acc: 0.9436\n",
      "Epoch 42/100\n",
      "174530/174530 [==============================] - 33s 187us/step - loss: 0.0344 - acc: 0.9901 - val_loss: 0.3708 - val_acc: 0.9440\n",
      "Epoch 43/100\n",
      "174530/174530 [==============================] - 33s 187us/step - loss: 0.0333 - acc: 0.9902 - val_loss: 0.3621 - val_acc: 0.9454\n",
      "Epoch 44/100\n",
      "174530/174530 [==============================] - 33s 191us/step - loss: 0.0340 - acc: 0.9902 - val_loss: 0.3638 - val_acc: 0.9434\n",
      "Epoch 45/100\n",
      "174530/174530 [==============================] - 33s 187us/step - loss: 0.0328 - acc: 0.9905 - val_loss: 0.3653 - val_acc: 0.9450\n",
      "Epoch 46/100\n",
      "174530/174530 [==============================] - 33s 187us/step - loss: 0.0333 - acc: 0.9904 - val_loss: 0.3620 - val_acc: 0.9462\n",
      "Epoch 47/100\n",
      "174530/174530 [==============================] - 33s 189us/step - loss: 0.0320 - acc: 0.9907 - val_loss: 0.3669 - val_acc: 0.9443\n",
      "Epoch 48/100\n",
      "174530/174530 [==============================] - 32s 186us/step - loss: 0.0299 - acc: 0.9916 - val_loss: 0.3611 - val_acc: 0.9457\n",
      "Epoch 49/100\n",
      "174530/174530 [==============================] - 33s 188us/step - loss: 0.0309 - acc: 0.9912 - val_loss: 0.3522 - val_acc: 0.9459\n",
      "Epoch 50/100\n",
      "174530/174530 [==============================] - 33s 189us/step - loss: 0.0307 - acc: 0.9909 - val_loss: 0.3602 - val_acc: 0.9463\n",
      "Epoch 51/100\n",
      "174530/174530 [==============================] - 33s 187us/step - loss: 0.0287 - acc: 0.9915 - val_loss: 0.3569 - val_acc: 0.9445\n",
      "Epoch 52/100\n",
      "174530/174530 [==============================] - 33s 187us/step - loss: 0.0285 - acc: 0.9917 - val_loss: 0.3670 - val_acc: 0.9449\n",
      "Epoch 53/100\n",
      "174530/174530 [==============================] - 33s 190us/step - loss: 0.0298 - acc: 0.9915 - val_loss: 0.3651 - val_acc: 0.9465\n",
      "Epoch 54/100\n",
      "174530/174530 [==============================] - 33s 187us/step - loss: 0.0290 - acc: 0.9915 - val_loss: 0.3580 - val_acc: 0.9465\n",
      "Epoch 55/100\n",
      "174530/174530 [==============================] - 32s 186us/step - loss: 0.0281 - acc: 0.9918 - val_loss: 0.3575 - val_acc: 0.9485\n",
      "Epoch 56/100\n",
      "174530/174530 [==============================] - 33s 189us/step - loss: 0.0286 - acc: 0.9918 - val_loss: 0.3555 - val_acc: 0.9473\n",
      "Epoch 57/100\n",
      "174530/174530 [==============================] - 33s 187us/step - loss: 0.0284 - acc: 0.9918 - val_loss: 0.3636 - val_acc: 0.9465\n",
      "Epoch 58/100\n",
      "174530/174530 [==============================] - 33s 187us/step - loss: 0.0260 - acc: 0.9926 - val_loss: 0.3613 - val_acc: 0.9473\n",
      "Epoch 59/100\n",
      "174530/174530 [==============================] - 33s 188us/step - loss: 0.0269 - acc: 0.9922 - val_loss: 0.3516 - val_acc: 0.9470\n",
      "Epoch 60/100\n",
      "174530/174530 [==============================] - 33s 187us/step - loss: 0.0261 - acc: 0.9925 - val_loss: 0.3612 - val_acc: 0.9465\n",
      "Epoch 61/100\n",
      "174530/174530 [==============================] - 33s 187us/step - loss: 0.0268 - acc: 0.9925 - val_loss: 0.3589 - val_acc: 0.9451\n",
      "Epoch 62/100\n",
      "174530/174530 [==============================] - 33s 189us/step - loss: 0.0251 - acc: 0.9928 - val_loss: 0.3674 - val_acc: 0.9431\n",
      "Epoch 63/100\n",
      "174530/174530 [==============================] - 33s 187us/step - loss: 0.0251 - acc: 0.9927 - val_loss: 0.3588 - val_acc: 0.9451\n",
      "Epoch 64/100\n",
      "174530/174530 [==============================] - 33s 187us/step - loss: 0.0249 - acc: 0.9929 - val_loss: 0.3557 - val_acc: 0.9461\n",
      "Epoch 65/100\n",
      "174530/174530 [==============================] - 33s 187us/step - loss: 0.0236 - acc: 0.9932 - val_loss: 0.3651 - val_acc: 0.9454\n",
      "Epoch 66/100\n",
      "174530/174530 [==============================] - 33s 187us/step - loss: 0.0235 - acc: 0.9933 - val_loss: 0.3558 - val_acc: 0.9455\n",
      "Epoch 67/100\n",
      "174530/174530 [==============================] - 33s 186us/step - loss: 0.0244 - acc: 0.9930 - val_loss: 0.3576 - val_acc: 0.9449\n",
      "Epoch 68/100\n",
      "174530/174530 [==============================] - 33s 187us/step - loss: 0.0249 - acc: 0.9927 - val_loss: 0.3584 - val_acc: 0.9457\n",
      "Epoch 69/100\n",
      "174530/174530 [==============================] - 33s 190us/step - loss: 0.0237 - acc: 0.9931 - val_loss: 0.3539 - val_acc: 0.9453\n",
      "Epoch 70/100\n",
      "174530/174530 [==============================] - 33s 187us/step - loss: 0.0235 - acc: 0.9931 - val_loss: 0.3487 - val_acc: 0.9473\n",
      "Epoch 71/100\n",
      "174530/174530 [==============================] - 33s 187us/step - loss: 0.0228 - acc: 0.9932 - val_loss: 0.3548 - val_acc: 0.9465\n",
      "Epoch 72/100\n",
      "174530/174530 [==============================] - 33s 189us/step - loss: 0.0215 - acc: 0.9938 - val_loss: 0.3582 - val_acc: 0.9457\n",
      "Epoch 73/100\n",
      "174530/174530 [==============================] - 32s 185us/step - loss: 0.0239 - acc: 0.9932 - val_loss: 0.3551 - val_acc: 0.9467\n",
      "Epoch 74/100\n",
      "174530/174530 [==============================] - 32s 186us/step - loss: 0.0223 - acc: 0.9937 - val_loss: 0.3508 - val_acc: 0.9465\n",
      "Epoch 75/100\n",
      "174530/174530 [==============================] - 33s 187us/step - loss: 0.0218 - acc: 0.9936 - val_loss: 0.3564 - val_acc: 0.9482\n",
      "Epoch 76/100\n",
      "174530/174530 [==============================] - 32s 186us/step - loss: 0.0219 - acc: 0.9937 - val_loss: 0.3510 - val_acc: 0.9471\n",
      "Epoch 77/100\n",
      "174530/174530 [==============================] - 32s 186us/step - loss: 0.0212 - acc: 0.9939 - val_loss: 0.3581 - val_acc: 0.9455\n",
      "Epoch 78/100\n",
      "174530/174530 [==============================] - 33s 188us/step - loss: 0.0218 - acc: 0.9937 - val_loss: 0.3541 - val_acc: 0.9471\n",
      "Epoch 79/100\n",
      "174530/174530 [==============================] - 33s 187us/step - loss: 0.0205 - acc: 0.9941 - val_loss: 0.3491 - val_acc: 0.9466\n",
      "Epoch 80/100\n",
      "174530/174530 [==============================] - 32s 186us/step - loss: 0.0215 - acc: 0.9937 - val_loss: 0.3457 - val_acc: 0.9484\n",
      "Epoch 81/100\n",
      "174530/174530 [==============================] - 33s 187us/step - loss: 0.0203 - acc: 0.9939 - val_loss: 0.3440 - val_acc: 0.9484\n",
      "Epoch 82/100\n",
      "174530/174530 [==============================] - 33s 188us/step - loss: 0.0212 - acc: 0.9939 - val_loss: 0.3551 - val_acc: 0.9458\n",
      "Epoch 83/100\n",
      "174530/174530 [==============================] - 33s 186us/step - loss: 0.0214 - acc: 0.9938 - val_loss: 0.3436 - val_acc: 0.9482\n",
      "Epoch 84/100\n",
      "174530/174530 [==============================] - 33s 188us/step - loss: 0.0196 - acc: 0.9943 - val_loss: 0.3522 - val_acc: 0.9484\n",
      "Epoch 85/100\n",
      "174530/174530 [==============================] - 32s 185us/step - loss: 0.0199 - acc: 0.9942 - val_loss: 0.3577 - val_acc: 0.9459\n",
      "Epoch 86/100\n",
      "174530/174530 [==============================] - 33s 186us/step - loss: 0.0197 - acc: 0.9944 - val_loss: 0.3556 - val_acc: 0.9459\n",
      "Epoch 87/100\n",
      "174530/174530 [==============================] - 33s 187us/step - loss: 0.0195 - acc: 0.9946 - val_loss: 0.3519 - val_acc: 0.9467\n",
      "Epoch 88/100\n",
      "174530/174530 [==============================] - 33s 187us/step - loss: 0.0183 - acc: 0.9949 - val_loss: 0.3538 - val_acc: 0.9459\n",
      "Epoch 89/100\n",
      "174530/174530 [==============================] - 33s 187us/step - loss: 0.0191 - acc: 0.9944 - val_loss: 0.3515 - val_acc: 0.9481\n",
      "Epoch 90/100\n",
      "174530/174530 [==============================] - 35s 198us/step - loss: 0.0194 - acc: 0.9943 - val_loss: 0.3559 - val_acc: 0.9467\n",
      "Epoch 91/100\n",
      "174530/174530 [==============================] - 33s 188us/step - loss: 0.0188 - acc: 0.9945 - val_loss: 0.3561 - val_acc: 0.9478\n",
      "Epoch 92/100\n",
      "174530/174530 [==============================] - 32s 186us/step - loss: 0.0194 - acc: 0.9944 - val_loss: 0.3454 - val_acc: 0.9485\n",
      "Epoch 93/100\n",
      "174530/174530 [==============================] - 33s 188us/step - loss: 0.0198 - acc: 0.9943 - val_loss: 0.3436 - val_acc: 0.9481\n",
      "Epoch 94/100\n",
      "174530/174530 [==============================] - 33s 188us/step - loss: 0.0187 - acc: 0.9945 - val_loss: 0.3535 - val_acc: 0.9470\n",
      "Epoch 95/100\n",
      "174530/174530 [==============================] - 32s 186us/step - loss: 0.0181 - acc: 0.9948 - val_loss: 0.3506 - val_acc: 0.9467\n",
      "Epoch 96/100\n",
      "174530/174530 [==============================] - 33s 189us/step - loss: 0.0182 - acc: 0.9948 - val_loss: 0.3376 - val_acc: 0.9486\n",
      "Epoch 97/100\n",
      "174530/174530 [==============================] - 33s 188us/step - loss: 0.0186 - acc: 0.9945 - val_loss: 0.3393 - val_acc: 0.9486\n",
      "Epoch 98/100\n",
      "174530/174530 [==============================] - 33s 188us/step - loss: 0.0173 - acc: 0.9951 - val_loss: 0.3450 - val_acc: 0.9481\n",
      "Epoch 99/100\n",
      "174530/174530 [==============================] - 33s 189us/step - loss: 0.0186 - acc: 0.9945 - val_loss: 0.3450 - val_acc: 0.9481\n",
      "Epoch 100/100\n",
      "174530/174530 [==============================] - 33s 188us/step - loss: 0.0181 - acc: 0.9948 - val_loss: 0.3470 - val_acc: 0.9476\n"
     ]
    }
   ],
   "source": [
    "history=model.fit(finaltrain, ytrain, epochs=100, batch_size=300 , validation_data=(finaldev,ydev))"
   ]
  },
  {
   "cell_type": "code",
   "execution_count": 41,
   "metadata": {
    "colab": {
     "base_uri": "https://localhost:8080/",
     "height": 67
    },
    "colab_type": "code",
    "id": "s42y-mwuXHWG",
    "outputId": "33e7bfe0-eff6-4f2b-89c2-06470abfd0dc"
   },
   "outputs": [
    {
     "name": "stdout",
     "output_type": "stream",
     "text": [
      "7316/7316 [==============================] - 2s 251us/step\n",
      "Test loss: 0.3674974308025336\n",
      "Test accuracy: 0.9451886276653909\n"
     ]
    }
   ],
   "source": [
    "score = model.evaluate(finaltest,ytest , verbose=1)\n",
    "print(\"Test loss:\",score[0])\n",
    "print(\"Test accuracy:\",score[1])"
   ]
  },
  {
   "cell_type": "code",
   "execution_count": 1,
   "metadata": {
    "colab": {},
    "colab_type": "code",
    "id": "4AzRJpaIeVSY"
   },
   "outputs": [],
   "source": [
    "def predict(text):\n",
    "  text=text.lower()\n",
    "  final=[]\n",
    "  seq1=[]\n",
    "  for s in (text):\n",
    "    x=train_char_index_dict[s]\n",
    "    seq1.append(str(x))\n",
    "  final.append(seq1)  \n",
    "  final_sequence = sequence.pad_sequences(final, maxlen=100,padding='post')\n",
    "  nb_classes = 24\n",
    "  targets = np.array(final_sequence)\n",
    "  one_hot_train = np.eye(nb_classes)[targets]\n",
    "  res=model.predict(one_hot_train)\n",
    "  pred = labelencoder.inverse_transform([np.argmax(res)])\n",
    "  return (\"Given protein sequence '{}' belongs to class family accession {}\".format(text.upper(),pred[0]))\n"
   ]
  },
  {
   "cell_type": "code",
   "execution_count": 1,
   "metadata": {
    "colab": {
     "base_uri": "https://localhost:8080/",
     "height": 34
    },
    "colab_type": "code",
    "id": "11L-lpoEfY82",
    "outputId": "d2c459a1-204f-4d26-9231-f230c65399ca"
   },
   "outputs": [
    {
     "data": {
      "text/plain": [
       "\"Given protein sequence 'HCQLTGRQPGFGHHISHSHRRTKRRFDPNIQHKRYWLPSEGRHIRLTLSTKAIKTVDTI' belongs to class family accession PF0083019\""
      ]
     },
     "execution_count": 1,
     "metadata": {
      "tags": []
     },
     "output_type": "execute_result"
    }
   ],
   "source": [
    "predict('hcqltgrqpgfghhishshrrtkrrfdpniqhkrywlpsegrhirltlstkaiktvdti')"
   ]
  },
  {
   "cell_type": "code",
   "execution_count": null,
   "metadata": {},
   "outputs": [],
   "source": []
  }
 ],
 "metadata": {
  "accelerator": "GPU",
  "colab": {
   "collapsed_sections": [],
   "name": "Multiclass_classification_new.ipynb",
   "provenance": [],
   "version": "0.3.2"
  },
  "kernelspec": {
   "display_name": "Python 3",
   "language": "python",
   "name": "python3"
  },
  "language_info": {
   "codemirror_mode": {
    "name": "ipython",
    "version": 3
   },
   "file_extension": ".py",
   "mimetype": "text/x-python",
   "name": "python",
   "nbconvert_exporter": "python",
   "pygments_lexer": "ipython3",
   "version": "3.6.8"
  }
 },
 "nbformat": 4,
 "nbformat_minor": 1
}
